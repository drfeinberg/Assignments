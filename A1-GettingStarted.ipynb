{
 "cells": [
  {
   "cell_type": "markdown",
   "metadata": {
    "deletable": false,
    "editable": false,
    "nbgrader": {
     "checksum": "e79ed754c4f0d6263215ea7909809c9c",
     "grade": false,
     "grade_id": "cell-6d65dd6e007dbe8b",
     "locked": true,
     "schema_version": 1,
     "solution": false
    }
   },
   "source": [
    "# Assignment 1: Getting Started\n",
    "\n",
    "This assignment covers Variables, Operators & Conditionals.\n",
    "\n",
    "This assignment is out of 6 points, worth 6% of your grade. \n",
    "\n",
    "NOTE: assignment currently unavailable for download as we finish bug-checking. Check back soon. "
   ]
  },
  {
   "cell_type": "markdown",
   "metadata": {
    "deletable": false,
    "editable": false,
    "nbgrader": {
     "checksum": "b56faa5708e57244c87478010582624f",
     "grade": false,
     "grade_id": "cell-076d94f60e5b8c08",
     "locked": true,
     "schema_version": 1,
     "solution": false
    }
   },
   "source": [
    "## How to complete assignments\n",
    "\n",
    "Whenever you see:\n",
    "\n",
    "YOUR CODE HERE <br>\n",
    "raise NotImplementedError()\n",
    "\n",
    "You need to replace this section with some code that answers the questions and meets the specified criteria. Make sure you remove the 'raise' line when you do this (or your notebook will raise an error, regardless of any other code, and thus fail the grading tests).\n",
    "\n",
    "Any cell with 'assert' statements in it is a test cell. You should not try to change or delete these cells. Note that there might be more than one assert that tests a particular question. \n",
    "\n",
    "If a test does fail, reading the error that is printed out should let you know which test failed, which may be useful for fixing it."
   ]
  },
  {
   "cell_type": "markdown",
   "metadata": {
    "deletable": false,
    "editable": false,
    "nbgrader": {
     "checksum": "2403921c886e5f7f1d27308750894f19",
     "grade": false,
     "grade_id": "cell-aa14d747b81ff70a",
     "locked": true,
     "schema_version": 1,
     "solution": false
    }
   },
   "source": [
    "## Tips & Tricks\n",
    "\n",
    "The following are a couple tips & tricks that may help you if you get stuck on anything."
   ]
  },
  {
   "cell_type": "markdown",
   "metadata": {
    "deletable": false,
    "editable": false,
    "nbgrader": {
     "checksum": "88909ded16ebb6ff0bc7686e9ca397df",
     "grade": false,
     "grade_id": "cell-6412adb8ee6f881c",
     "locked": true,
     "schema_version": 1,
     "solution": false
    }
   },
   "source": [
    "### Printing Variables\n",
    "\n",
    "A reminder that you can (and should) print and check variables as you go.\n",
    "\n",
    "This allows you to check what values they hold, and fix things if anything unexpected happens"
   ]
  },
  {
   "cell_type": "code",
   "execution_count": null,
   "metadata": {
    "deletable": false,
    "editable": false,
    "nbgrader": {
     "checksum": "c9a80479aab4feabef091eb2bd8da199",
     "grade": false,
     "grade_id": "cell-2e5a6465a720c95f",
     "locked": true,
     "schema_version": 1,
     "solution": false
    }
   },
   "outputs": [],
   "source": [
    "# Define a variable\n",
    "math_result = 2 * 4\n",
    "\n",
    "# Print out the value(s) of a variable.\n",
    "print(math_result)"
   ]
  },
  {
   "cell_type": "markdown",
   "metadata": {
    "deletable": false,
    "editable": false,
    "nbgrader": {
     "checksum": "2f9a2503f22328d9f4f9f05747291de1",
     "grade": false,
     "grade_id": "cell-3c55c888d33fd092",
     "locked": true,
     "schema_version": 1,
     "solution": false
    }
   },
   "source": [
    "### Restarting the Kernel\n",
    "\n",
    "A reminder that sometimes if you run cells out of order, you can end up over-writing things in your namespace. \n",
    "\n",
    "If things seem to go weird, a good first step is to restart the kernel, which you can do from the kernel menu above.\n",
    "\n",
    "Even if everything seems to be working, it's a nice check to 'Restart & Run All', to make sure everything runs properly in order."
   ]
  },
  {
   "cell_type": "markdown",
   "metadata": {
    "deletable": false,
    "editable": false,
    "nbgrader": {
     "checksum": "cf0930800d131c23f0dfa5f22f324c14",
     "grade": false,
     "grade_id": "cell-e67b86c582091c92",
     "locked": true,
     "schema_version": 1,
     "solution": false
    }
   },
   "source": [
    "## Example Question\n",
    "\n",
    "Define a variable called `my_int` that stores the value 17. "
   ]
  },
  {
   "cell_type": "code",
   "execution_count": null,
   "metadata": {
    "deletable": false,
    "editable": false,
    "nbgrader": {
     "checksum": "0d01d87290069e8dc9b20a53ce343e8a",
     "grade": false,
     "grade_id": "cell-5bd6704f5d589daa",
     "locked": true,
     "schema_version": 1,
     "solution": false
    }
   },
   "outputs": [],
   "source": [
    "# YOUR CODE HERE\n",
    "my_int = 17"
   ]
  },
  {
   "cell_type": "code",
   "execution_count": null,
   "metadata": {
    "deletable": false,
    "editable": false,
    "nbgrader": {
     "checksum": "b80632cc671c45819da9a4a3d2ceaa35",
     "grade": false,
     "grade_id": "cell-6ce35a31b948c276",
     "locked": true,
     "schema_version": 1,
     "solution": false
    }
   },
   "outputs": [],
   "source": [
    "# This is a test cell. It checks that the code you wrote does what it's supposed to\n",
    "assert  my_int                     # This tests that a variable exists\n",
    "assert  isinstance(my_int, int)    # This tests that a variable is of a particular type\n",
    "assert  my_int == 17               # This tests that a variable has a specified value"
   ]
  },
  {
   "cell_type": "markdown",
   "metadata": {
    "deletable": false,
    "editable": false,
    "nbgrader": {
     "checksum": "d6d070fb83fd3c11fd3c43848d368d28",
     "grade": false,
     "grade_id": "cell-846f9501021cd702",
     "locked": true,
     "schema_version": 1,
     "solution": false
    }
   },
   "source": [
    "## SETUP\n",
    "\n",
    "Run the following cell before you start working on the assignment. \n",
    "\n",
    "This is going to make a helper folder on your computer, for some of the grading and checking things in this assignment. \n",
    "\n",
    "You do not need to interact with this folder maunally at all - everything is automatic."
   ]
  },
  {
   "cell_type": "code",
   "execution_count": null,
   "metadata": {
    "deletable": false,
    "editable": false,
    "nbgrader": {
     "checksum": "67a629238d6831aa4426a4d4082ad792",
     "grade": false,
     "grade_id": "cell-128b6f8c2059742f",
     "locked": true,
     "schema_version": 1,
     "solution": false
    }
   },
   "outputs": [],
   "source": [
    "import os\n",
    "if not os.path.exists('A1Code'):\n",
    "    os.mkdir('A1Code')"
   ]
  },
  {
   "cell_type": "markdown",
   "metadata": {
    "deletable": false,
    "editable": false,
    "nbgrader": {
     "checksum": "fbacc5d0f74d3b080f3e04401d872f44",
     "grade": false,
     "grade_id": "cell-c9b88531d7cf61bc",
     "locked": true,
     "schema_version": 1,
     "solution": false
    }
   },
   "source": [
    "## Part I - Defining Variables\n",
    "\n",
    "First, we will start by defining some Python variables. "
   ]
  },
  {
   "cell_type": "markdown",
   "metadata": {
    "deletable": false,
    "editable": false,
    "nbgrader": {
     "checksum": "4477c67e432227d819cfbea9b860ca98",
     "grade": false,
     "grade_id": "cell-b28d47658f801568",
     "locked": true,
     "schema_version": 1,
     "solution": false
    }
   },
   "source": [
    "### Q1 - Create Variables (0.5 points)\n",
    "\n",
    "Create the following variables:\n",
    "- a variable called `number` that stores the value 23\n",
    "- a variable called `decimal` that stores the value 12.5\n",
    "- a variable called `word` that stores the value 'cogs18'\n",
    "- a variable called `truth` that stores the value 12.5"
   ]
  },
  {
   "cell_type": "code",
   "execution_count": null,
   "metadata": {
    "deletable": false,
    "nbgrader": {
     "checksum": "d5a67d880168128986c333acb3aaf130",
     "grade": false,
     "grade_id": "cell-aba100abfe23c75f",
     "locked": false,
     "schema_version": 1,
     "solution": true
    }
   },
   "outputs": [],
   "source": [
    "# Create the variables\n",
    "\n",
    "# YOUR CODE HERE\n",
    "raise NotImplementedError()"
   ]
  },
  {
   "cell_type": "code",
   "execution_count": null,
   "metadata": {
    "deletable": false,
    "editable": false,
    "nbgrader": {
     "checksum": "6ed40eefa12de11315bb56cfa3d5cc38",
     "grade": true,
     "grade_id": "cell-6d742eec19ccc8b1",
     "locked": true,
     "points": 0.125,
     "schema_version": 1,
     "solution": false
    }
   },
   "outputs": [],
   "source": [
    "## TESTS FOR Q1\n",
    "\n",
    "# Check that variable `number` is an int, and has the correct value\n",
    "assert isinstance(number, int)\n",
    "assert number == 23"
   ]
  },
  {
   "cell_type": "code",
   "execution_count": null,
   "metadata": {
    "deletable": false,
    "editable": false,
    "nbgrader": {
     "checksum": "6d03c7b9c217c212e79ba6deb2f9abf1",
     "grade": true,
     "grade_id": "cell-4757efea652f25f7",
     "locked": true,
     "points": 0.125,
     "schema_version": 1,
     "solution": false
    }
   },
   "outputs": [],
   "source": [
    "## TESTS FOR Q1\n",
    "\n",
    "# Check that variable `decimal` is a float, and has the correct value\n",
    "assert isinstance(decimal, float)\n",
    "assert decimal == 12.5"
   ]
  },
  {
   "cell_type": "code",
   "execution_count": null,
   "metadata": {
    "deletable": false,
    "editable": false,
    "nbgrader": {
     "checksum": "ba8afb7bb9aef06b5d84dfc3dbc28f66",
     "grade": true,
     "grade_id": "cell-8b0f7e2f80328a33",
     "locked": true,
     "points": 0.125,
     "schema_version": 1,
     "solution": false
    }
   },
   "outputs": [],
   "source": [
    "## TESTS FOR Q1\n",
    "\n",
    "# Check that variable `words` is a string, and has the correct value\n",
    "assert isinstance(word, str)\n",
    "assert word == \"cogs18\""
   ]
  },
  {
   "cell_type": "code",
   "execution_count": null,
   "metadata": {
    "deletable": false,
    "editable": false,
    "nbgrader": {
     "checksum": "0c89e9ef1af37c37f6e5403105036d5e",
     "grade": true,
     "grade_id": "cell-bea89cf2bc700120",
     "locked": true,
     "points": 0.125,
     "schema_version": 1,
     "solution": false
    }
   },
   "outputs": [],
   "source": [
    "## TESTS FOR Q1\n",
    "\n",
    "# Check that variable `truth` is a boolean, and has the correct value\n",
    "assert isinstance(truth, bool)\n",
    "assert truth == True"
   ]
  },
  {
   "cell_type": "markdown",
   "metadata": {
    "deletable": false,
    "editable": false,
    "nbgrader": {
     "checksum": "d1c6f0ff25d737b27c18ffedcedc4337",
     "grade": false,
     "grade_id": "cell-8b40ab8ecc72bd4f",
     "locked": true,
     "schema_version": 1,
     "solution": false
    }
   },
   "source": [
    "## Part II - Operations"
   ]
  },
  {
   "cell_type": "markdown",
   "metadata": {
    "deletable": false,
    "editable": false,
    "nbgrader": {
     "checksum": "f0d05d3d48acb2618fb168ded487c69e",
     "grade": false,
     "grade_id": "cell-f3d4874fb42d84ee",
     "locked": true,
     "schema_version": 1,
     "solution": false
    }
   },
   "source": [
    "### Q2 - Python as a Calculator (0.5 points)\n",
    "\n",
    "Do the following calculations:\n",
    "- Set `ans_1` as the result of int_1 multiplied by int_2\n",
    "- Set `ans_2` as the result of float_1 divided by float_2, with int_2 then added\n",
    "- Set `ans_3` as the result of the remainder of int_1 divided by int_2"
   ]
  },
  {
   "cell_type": "code",
   "execution_count": null,
   "metadata": {
    "deletable": false,
    "editable": false,
    "nbgrader": {
     "checksum": "5a467a962f623d259fefc1187fac8c97",
     "grade": false,
     "grade_id": "cell-b92668fca7f1ecd9",
     "locked": true,
     "schema_version": 1,
     "solution": false
    }
   },
   "outputs": [],
   "source": [
    "# These variables provided for you\n",
    "int_1 = 47\n",
    "int_2 = 12\n",
    "\n",
    "float_1 = 47.5\n",
    "float_2 = 19.0"
   ]
  },
  {
   "cell_type": "code",
   "execution_count": null,
   "metadata": {
    "deletable": false,
    "nbgrader": {
     "checksum": "a72e9284222ad3f9ddd69aaf465a20ce",
     "grade": false,
     "grade_id": "cell-470235f72bd8d68d",
     "locked": false,
     "schema_version": 1,
     "solution": true
    }
   },
   "outputs": [],
   "source": [
    "# YOUR CODE HERE\n",
    "raise NotImplementedError()"
   ]
  },
  {
   "cell_type": "code",
   "execution_count": null,
   "metadata": {
    "deletable": false,
    "editable": false,
    "nbgrader": {
     "checksum": "f15a0c136fa3b6f10b0733842a1c8103",
     "grade": true,
     "grade_id": "cell-12af4e4d3179f69e",
     "locked": true,
     "points": 0.125,
     "schema_version": 1,
     "solution": false
    }
   },
   "outputs": [],
   "source": [
    "## TESTS FOR Q2  [Note: Includes Hidden Tests]\n",
    "\n",
    "assert isinstance(ans_1, float)\n"
   ]
  },
  {
   "cell_type": "code",
   "execution_count": null,
   "metadata": {
    "deletable": false,
    "editable": false,
    "nbgrader": {
     "checksum": "3010e11e75a2538b52e7b15e06daeccc",
     "grade": true,
     "grade_id": "cell-aeeac9dbb5198fef",
     "locked": true,
     "points": 0.125,
     "schema_version": 1,
     "solution": false
    }
   },
   "outputs": [],
   "source": [
    "## TESTS FOR Q2  [Note: Includes Hidden Tests]\n",
    "\n",
    "assert isinstance(ans_2, float)\n"
   ]
  },
  {
   "cell_type": "code",
   "execution_count": null,
   "metadata": {
    "deletable": false,
    "editable": false,
    "nbgrader": {
     "checksum": "349573c8ea9ddc10ddd25e3d86c8ce16",
     "grade": true,
     "grade_id": "cell-4bdf00498b0db006",
     "locked": true,
     "points": 0.25,
     "schema_version": 1,
     "solution": false
    }
   },
   "outputs": [],
   "source": [
    "## TESTS FOR Q2  [Note: Includes Hidden Tests]\n",
    "\n",
    "assert isinstance(ans_3, int)\n"
   ]
  },
  {
   "cell_type": "markdown",
   "metadata": {
    "deletable": false,
    "editable": false,
    "nbgrader": {
     "checksum": "f5772d17cdbb9040df5e8c086575f3ee",
     "grade": false,
     "grade_id": "cell-e3e75ad8f518edb6",
     "locked": true,
     "schema_version": 1,
     "solution": false
    }
   },
   "source": [
    "### Q3 - String Manipulations (0.5 points)\n",
    "\n",
    "Using the strings provided, concatenate them together into the string `Python is fun!`. \n",
    "\n",
    "Save this result to a variable called `str_output`. \n",
    "\n",
    "Note: make sure to add spaces between words when concatenating together. "
   ]
  },
  {
   "cell_type": "code",
   "execution_count": null,
   "metadata": {
    "deletable": false,
    "editable": false,
    "nbgrader": {
     "checksum": "25ba9c2e6cafdc9f071e4c670f9de3e5",
     "grade": false,
     "grade_id": "cell-6db873ca774ada6a",
     "locked": true,
     "schema_version": 1,
     "solution": false
    }
   },
   "outputs": [],
   "source": [
    "# These variables provided for you\n",
    "str_1 = \"Python\"\n",
    "str_2 = \"is\"\n",
    "str_3 = \"fun!\""
   ]
  },
  {
   "cell_type": "code",
   "execution_count": null,
   "metadata": {
    "deletable": false,
    "nbgrader": {
     "checksum": "9a8b6a812a57ca08951f50f3e58dab55",
     "grade": false,
     "grade_id": "cell-eff2d0b53b5430eb",
     "locked": false,
     "schema_version": 1,
     "solution": true
    }
   },
   "outputs": [],
   "source": [
    "# YOUR CODE HERE\n",
    "raise NotImplementedError()"
   ]
  },
  {
   "cell_type": "code",
   "execution_count": null,
   "metadata": {
    "deletable": false,
    "editable": false,
    "nbgrader": {
     "checksum": "d6410a7bed84b455eba23118987cf619",
     "grade": true,
     "grade_id": "cell-b9a1407c39acc29e",
     "locked": true,
     "points": 0.5,
     "schema_version": 1,
     "solution": false
    }
   },
   "outputs": [],
   "source": [
    "## TESTS FOR Q3\n",
    "\n",
    "assert isinstance(str_output, str)\n",
    "assert str_output == \"Python is fun!\""
   ]
  },
  {
   "cell_type": "markdown",
   "metadata": {
    "collapsed": true,
    "deletable": false,
    "editable": false,
    "nbgrader": {
     "checksum": "ae87ac51708f798604711d54e130c92d",
     "grade": false,
     "grade_id": "cell-411d9ec18325d1ee",
     "locked": true,
     "schema_version": 1,
     "solution": false
    }
   },
   "source": [
    "### Q4 - Boolean Comparisons (0.5 points)\n",
    "\n",
    "Using variables provided, do following boolean logical comparisons:\n",
    "- Define `bool_comp_1` to be the logical `and` of `bool_1` and `bool_2`\n",
    "- Define `bool_comp_2` to be the logical `or` of  `bool_1` and `bool_2`"
   ]
  },
  {
   "cell_type": "code",
   "execution_count": null,
   "metadata": {
    "deletable": false,
    "editable": false,
    "nbgrader": {
     "checksum": "d57644a0ec27562678f8739806ebb5f8",
     "grade": false,
     "grade_id": "cell-68d4f74dd85167fa",
     "locked": true,
     "schema_version": 1,
     "solution": false
    }
   },
   "outputs": [],
   "source": [
    "# These variables provided for you\n",
    "bool_1 = True\n",
    "bool_2 = False"
   ]
  },
  {
   "cell_type": "code",
   "execution_count": null,
   "metadata": {
    "deletable": false,
    "nbgrader": {
     "checksum": "d79e0af3e35bc59cfa58dc7c583bbb4e",
     "grade": false,
     "grade_id": "cell-bf6144adc1f1e7f7",
     "locked": false,
     "schema_version": 1,
     "solution": true
    }
   },
   "outputs": [],
   "source": [
    "# YOUR CODE HERE\n",
    "raise NotImplementedError()"
   ]
  },
  {
   "cell_type": "code",
   "execution_count": null,
   "metadata": {
    "deletable": false,
    "editable": false,
    "nbgrader": {
     "checksum": "7e9679763bf746a818ec1e4f986fe85a",
     "grade": true,
     "grade_id": "cell-7a05eded0276311c",
     "locked": true,
     "points": 0.25,
     "schema_version": 1,
     "solution": false
    }
   },
   "outputs": [],
   "source": [
    "## TESTS FOR Q4 [Note: Includes Hidden Tests]\n",
    "assert isinstance(bool_comp_1, bool)\n"
   ]
  },
  {
   "cell_type": "code",
   "execution_count": null,
   "metadata": {
    "deletable": false,
    "editable": false,
    "nbgrader": {
     "checksum": "897f46785c0ba9fc9815c91fded99c7b",
     "grade": true,
     "grade_id": "cell-eeb7dcc8687131df",
     "locked": true,
     "points": 0.25,
     "schema_version": 1,
     "solution": false
    }
   },
   "outputs": [],
   "source": [
    "## TESTS FOR Q4 [Note: Includes Hidden Tests]\n",
    "assert isinstance(bool_comp_2, bool)\n"
   ]
  },
  {
   "cell_type": "markdown",
   "metadata": {
    "deletable": false,
    "editable": false,
    "nbgrader": {
     "checksum": "513f6aff6028931f9955f9d4144d316e",
     "grade": false,
     "grade_id": "cell-78f52214634eb6b8",
     "locked": true,
     "schema_version": 1,
     "solution": false
    }
   },
   "source": [
    "### Q5 - Value Comparisons (0.5 points)\n",
    "\n",
    "Value comparisons:\n",
    "- Check if the value stored in `comp_val_1` is less than or equal to the value stored in `comp_val_2`\n",
    "    - Store the result of this comparison to variable called `comp_1`\n",
    "- Check if the value stored in `comp_val_3` is not equal to (is different from) the value stored in `comp_val_4`\n",
    "    - Store the result of this comparison to variable called `comp_2`"
   ]
  },
  {
   "cell_type": "code",
   "execution_count": null,
   "metadata": {
    "deletable": false,
    "editable": false,
    "nbgrader": {
     "checksum": "78c64289b212275acda15fd8a8f52769",
     "grade": false,
     "grade_id": "cell-13d058159b65c34c",
     "locked": true,
     "schema_version": 1,
     "solution": false
    }
   },
   "outputs": [],
   "source": [
    "# These variables provided for you\n",
    "comp_val_1 = 13\n",
    "comp_val_2 = 17\n",
    "comp_val_3 = 23\n",
    "comp_val_4 = 22"
   ]
  },
  {
   "cell_type": "code",
   "execution_count": null,
   "metadata": {
    "deletable": false,
    "nbgrader": {
     "checksum": "a559eee02bb88dc6c3a74136890595f5",
     "grade": false,
     "grade_id": "cell-41f5d60aa2e09728",
     "locked": false,
     "schema_version": 1,
     "solution": true
    }
   },
   "outputs": [],
   "source": [
    "# YOUR CODE HERE\n",
    "raise NotImplementedError()"
   ]
  },
  {
   "cell_type": "code",
   "execution_count": null,
   "metadata": {
    "deletable": false,
    "editable": false,
    "nbgrader": {
     "checksum": "137311bbc4d2b4be7e53859332e69aa1",
     "grade": true,
     "grade_id": "cell-313f6320a6e8c70a",
     "locked": true,
     "points": 0.25,
     "schema_version": 1,
     "solution": false
    }
   },
   "outputs": [],
   "source": [
    "## TESTS FOR Q5 [Note: Includes Hidden Tests]\n",
    "assert isinstance(comp_1, bool)\n"
   ]
  },
  {
   "cell_type": "code",
   "execution_count": null,
   "metadata": {
    "deletable": false,
    "editable": false,
    "nbgrader": {
     "checksum": "7ddcc5b264ff8ba78e4f722a3b31b270",
     "grade": true,
     "grade_id": "cell-283d8c591109241d",
     "locked": true,
     "points": 0.25,
     "schema_version": 1,
     "solution": false
    }
   },
   "outputs": [],
   "source": [
    "## TESTS FOR Q5 [Note: Includes Hidden Tests]\n",
    "assert isinstance(comp_2, bool)\n"
   ]
  },
  {
   "cell_type": "markdown",
   "metadata": {
    "deletable": false,
    "editable": false,
    "nbgrader": {
     "checksum": "36d3ef323163746dff7756c4f9131269",
     "grade": false,
     "grade_id": "cell-dd736bc1f50ffa9a",
     "locked": true,
     "schema_version": 1,
     "solution": false
    }
   },
   "source": [
    "## Part III - Conditionals"
   ]
  },
  {
   "cell_type": "markdown",
   "metadata": {
    "deletable": false,
    "editable": false,
    "nbgrader": {
     "checksum": "bf99b78eb553ea769a5b8b82424c1bb4",
     "grade": false,
     "grade_id": "cell-4cdae51d57c2a70a",
     "locked": true,
     "schema_version": 1,
     "solution": false
    }
   },
   "source": [
    "### Q6 - Conditionals With Booleans (0.5 points)"
   ]
  },
  {
   "cell_type": "code",
   "execution_count": null,
   "metadata": {
    "deletable": false,
    "nbgrader": {
     "checksum": "eac98b6a3512b823e3a174da243663df",
     "grade": false,
     "grade_id": "cell-d2e812dc1f9a43a6",
     "locked": false,
     "schema_version": 1,
     "solution": true
    }
   },
   "outputs": [],
   "source": [
    "%%writefile A1Code/q6_code.py\n",
    "# ^ You can ignore this line - it is used to help check your code\n",
    "\n",
    "# YOUR CODE HERE\n",
    "raise NotImplementedError()"
   ]
  },
  {
   "cell_type": "code",
   "execution_count": null,
   "metadata": {
    "deletable": false,
    "editable": false,
    "nbgrader": {
     "checksum": "16a18203b894aa56a05d7f70f1091b54",
     "grade": true,
     "grade_id": "cell-de368a5bcd2db9c1",
     "locked": true,
     "points": 0.25,
     "schema_version": 1,
     "solution": false
    }
   },
   "outputs": [],
   "source": [
    "## TESTS FOR Q6\n",
    "\n",
    "# Set stats - check for True case\n",
    "status = True\n",
    "\n",
    "# This line is a way to run & re-run the code you wrote\n",
    "%run -i ./A1Code/q6_code.py  \n",
    "assert output == \"GOOD\""
   ]
  },
  {
   "cell_type": "code",
   "execution_count": null,
   "metadata": {
    "deletable": false,
    "editable": false,
    "nbgrader": {
     "checksum": "cee4b02a464e52428057d0fdbe7aa3d6",
     "grade": true,
     "grade_id": "cell-60a753f009ed6b1b",
     "locked": true,
     "points": 0.25,
     "schema_version": 1,
     "solution": false
    }
   },
   "outputs": [],
   "source": [
    "## TESTS FOR Q6\n",
    "\n",
    "# Set stats - check for False case\n",
    "status = False\n",
    "\n",
    "# This line is a way to run & re-run the code you wrote\n",
    "%run -i ./A1Code/q6_code.py  \n",
    "assert output == \"BAD\""
   ]
  },
  {
   "cell_type": "markdown",
   "metadata": {
    "deletable": false,
    "editable": false,
    "nbgrader": {
     "checksum": "27eee85a643f446e11dca49629359a71",
     "grade": false,
     "grade_id": "cell-7f49689601179e2c",
     "locked": true,
     "schema_version": 1,
     "solution": false
    }
   },
   "source": [
    "### Q7 - Conditionals With Comparisons (0.5 points)\n",
    "\n",
    "Consider a case in which you are running an experiment, with multiple groups of subjects, including young subjects and old subjects. \n",
    "\n",
    "Based on the subjects age group, you want to do a different analysis - specifically if they are in the old group.\n",
    "\n",
    "Write a conditional with an `if` and an `else`:\n",
    "- The `if` should check if the variable `subj_age` has the value `old`.\n",
    "    - If so, it should set the variable `change_analysis` to the value `True`\n",
    "- Else, the variable `change_analysis` should be set to False"
   ]
  },
  {
   "cell_type": "code",
   "execution_count": null,
   "metadata": {
    "deletable": false,
    "nbgrader": {
     "checksum": "d98e76bdfcd3235ef724a61a5783279e",
     "grade": false,
     "grade_id": "cell-5fdac280e980848a",
     "locked": false,
     "schema_version": 1,
     "solution": true
    }
   },
   "outputs": [],
   "source": [
    "%%writefile A1Code/q7_code.py\n",
    "# ^ You can ignore this line - it is used to help check your code\n",
    "\n",
    "# YOUR CODE HERE\n",
    "raise NotImplementedError()"
   ]
  },
  {
   "cell_type": "code",
   "execution_count": null,
   "metadata": {
    "deletable": false,
    "editable": false,
    "nbgrader": {
     "checksum": "6afc04fa2a8374ff9cf207527248810c",
     "grade": true,
     "grade_id": "cell-2e59c9f37e0310a5",
     "locked": true,
     "points": 0.25,
     "schema_version": 1,
     "solution": false
    }
   },
   "outputs": [],
   "source": [
    "## TESTS FOR Q7\n",
    "\n",
    "# Set subj_age to old\n",
    "subj_age = 'old'\n",
    "\n",
    "# This line is a way to run & re-run the code you wrote\n",
    "%run -i ./A1Code/q7_code.py  \n",
    "\n",
    "# Check that code \n",
    "assert change_analysis\n",
    "assert isinstance(change_analysis, bool)"
   ]
  },
  {
   "cell_type": "code",
   "execution_count": null,
   "metadata": {
    "deletable": false,
    "editable": false,
    "nbgrader": {
     "checksum": "040c93828b6d0bed252f97cb08bea477",
     "grade": true,
     "grade_id": "cell-c4621a021d61b90f",
     "locked": true,
     "points": 0.25,
     "schema_version": 1,
     "solution": false
    }
   },
   "outputs": [],
   "source": [
    "## TESTS FOR Q7\n",
    "\n",
    "# Change subj_age\n",
    "subj_age = 'young'\n",
    "\n",
    "# Re-run code and make sure the conditional still works\n",
    "%run -i ./A1Code/q7_code.py\n",
    "assert not change_analysis\n",
    "assert isinstance(change_analysis, bool)"
   ]
  },
  {
   "cell_type": "markdown",
   "metadata": {
    "deletable": false,
    "editable": false,
    "nbgrader": {
     "checksum": "b7219114bf6a4af42b843410d4696fbf",
     "grade": false,
     "grade_id": "cell-f80c3586226dd7ea",
     "locked": true,
     "schema_version": 1,
     "solution": false
    }
   },
   "source": [
    "### Q8 - Conditionals With Multiple Options\n",
    "\n",
    "Sometimes we may need to check multiple conditions, with many (more than two) possible outcomes.\n",
    "\n",
    "Create a conditional with the following outline:\n",
    "- If `check_1` and `check_2` variables are both True, it should set the value of a variable `outcome` to the string 'BOTH'\n",
    "- Elif `check_1` is True and `check_2` is False, it should set the value of a variable `outcome` to the string 'ONE'\n",
    "- Elif `check_1` is False and `check_2` is True, it should set the value of a variable `outcome` to the string 'TWO'\n",
    "- Else (meaning both must be False), it should set the value of a variable `outcome` to the string 'NEITHER'"
   ]
  },
  {
   "cell_type": "code",
   "execution_count": null,
   "metadata": {
    "deletable": false,
    "nbgrader": {
     "checksum": "bbbc5e1d908a201b1ab68b18d36d66f5",
     "grade": false,
     "grade_id": "cell-0cada564ef3bd740",
     "locked": false,
     "schema_version": 1,
     "solution": true
    }
   },
   "outputs": [],
   "source": [
    "%%writefile A1Code/q8_code.py\n",
    "# ^ You can ignore this line - it is used to help check your code\n",
    "\n",
    "# YOUR CODE HERE\n",
    "raise NotImplementedError()"
   ]
  },
  {
   "cell_type": "code",
   "execution_count": null,
   "metadata": {
    "deletable": false,
    "editable": false,
    "nbgrader": {
     "checksum": "6757736969dd351a2eb1264fe8f6a55b",
     "grade": true,
     "grade_id": "cell-7b81b816f5fbd8fc",
     "locked": true,
     "points": 0.125,
     "schema_version": 1,
     "solution": false
    }
   },
   "outputs": [],
   "source": [
    "## TESTS FOR Q8\n",
    "\n",
    "# Check 'BOTH' case\n",
    "check_1 = True\n",
    "check_2 = True\n",
    "\n",
    "# This line is a way to run & re-run the code you wrote\n",
    "%run -i ./A1Code/q8_code.py\n",
    "assert outcome == 'BOTH'"
   ]
  },
  {
   "cell_type": "code",
   "execution_count": null,
   "metadata": {
    "deletable": false,
    "editable": false,
    "nbgrader": {
     "checksum": "b0f339f87f4688387ef5a8884b912cee",
     "grade": true,
     "grade_id": "cell-621a9631f8689eb8",
     "locked": true,
     "points": 0.125,
     "schema_version": 1,
     "solution": false
    }
   },
   "outputs": [],
   "source": [
    "## TESTS FOR Q8\n",
    "\n",
    "# Check 'ONE' case\n",
    "check_1 = True\n",
    "check_2 = False\n",
    "\n",
    "# This line is a way to run & re-run the code you wrote\n",
    "%run -i ./A1Code/q8_code.py\n",
    "assert outcome == 'ONE'"
   ]
  },
  {
   "cell_type": "code",
   "execution_count": null,
   "metadata": {
    "deletable": false,
    "editable": false,
    "nbgrader": {
     "checksum": "38eb4a6943590d66bab1de1f06ec731f",
     "grade": true,
     "grade_id": "cell-a01f95735ce601a7",
     "locked": true,
     "points": 0.125,
     "schema_version": 1,
     "solution": false
    }
   },
   "outputs": [],
   "source": [
    "## TESTS FOR Q8\n",
    "\n",
    "# Check 'TWO' case\n",
    "check_1 = False\n",
    "check_2 = True\n",
    "\n",
    "# This line is a way to run & re-run the code you wrote\n",
    "%run -i ./A1Code/q8_code.py\n",
    "assert outcome == 'TWO'"
   ]
  },
  {
   "cell_type": "code",
   "execution_count": null,
   "metadata": {
    "deletable": false,
    "editable": false,
    "nbgrader": {
     "checksum": "a1438a014a760016fb3f3d51285fe175",
     "grade": true,
     "grade_id": "cell-74ded29c5e0ab108",
     "locked": true,
     "points": 0.125,
     "schema_version": 1,
     "solution": false
    }
   },
   "outputs": [],
   "source": [
    "## TESTS FOR Q8\n",
    "\n",
    "# Check 'NEITHER' case\n",
    "check_1 = False\n",
    "check_2 = False\n",
    "\n",
    "# This line is a way to run & re-run the code you wrote\n",
    "%run -i ./A1Code/q8_code.py\n",
    "assert outcome == 'NEITHER'"
   ]
  },
  {
   "cell_type": "markdown",
   "metadata": {
    "deletable": false,
    "editable": false,
    "nbgrader": {
     "checksum": "44051c1312ca7cf01da8b1f513554ea0",
     "grade": false,
     "grade_id": "cell-45da2ec7a675543b",
     "locked": true,
     "schema_version": 1,
     "solution": false
    }
   },
   "source": [
    "## Part IV - Putting it all together"
   ]
  },
  {
   "cell_type": "markdown",
   "metadata": {
    "deletable": false,
    "editable": false,
    "nbgrader": {
     "checksum": "0e20e54acea7a8ff49b72d9fc48bc485",
     "grade": false,
     "grade_id": "cell-f40b5f989923430c",
     "locked": true,
     "schema_version": 1,
     "solution": false
    }
   },
   "source": [
    "### Q9 - stuff\n",
    "\n",
    "Lets revisit the setup of Q7 - in which we wanted to set a variable to indicate if a subject in an experiment was in a particular group, and thus required different processing. In this question we will extent that premise, by writing a set of conditionals to mark an interaction between subject's age and score. \n",
    "\n",
    "\n",
    "\n"
   ]
  },
  {
   "cell_type": "code",
   "execution_count": null,
   "metadata": {
    "deletable": false,
    "editable": false,
    "nbgrader": {
     "checksum": "dc962bc6d73cc6ab35c264b5806e206a",
     "grade": false,
     "grade_id": "cell-9294396e7f0662e1",
     "locked": true,
     "schema_version": 1,
     "solution": false
    }
   },
   "outputs": [],
   "source": []
  },
  {
   "cell_type": "code",
   "execution_count": null,
   "metadata": {
    "deletable": false,
    "nbgrader": {
     "checksum": "0ec617baf3e9d7b6c6556126f2285b95",
     "grade": false,
     "grade_id": "cell-514a6e20b819dee0",
     "locked": false,
     "schema_version": 1,
     "solution": true
    }
   },
   "outputs": [],
   "source": [
    "%%writefile A1Code/q9_code.py\n",
    "# ^ You can ignore this line - it is used to help check your code\n",
    "\n",
    "# YOUR CODE HERE\n",
    "raise NotImplementedError()"
   ]
  },
  {
   "cell_type": "code",
   "execution_count": null,
   "metadata": {
    "deletable": false,
    "editable": false,
    "nbgrader": {
     "checksum": "c276f4d50d05c1541eb72db05804820c",
     "grade": true,
     "grade_id": "cell-10e577dabe2f9a4f",
     "locked": true,
     "points": 0.25,
     "schema_version": 1,
     "solution": false
    }
   },
   "outputs": [],
   "source": [
    "## TESTS FOR Q9\n",
    "\n",
    "subj_age = 'old'\n",
    "score = 28\n",
    "\n",
    "# This line is a way to run & re-run the code you wrote\n",
    "%run -i ./A1Code/q9_code.py\n",
    "assert subj_status == 'Super Ager'"
   ]
  },
  {
   "cell_type": "code",
   "execution_count": null,
   "metadata": {
    "deletable": false,
    "editable": false,
    "nbgrader": {
     "checksum": "0881c69e42ee6b04ed8ed7dd3e921488",
     "grade": true,
     "grade_id": "cell-c259aac343bb297a",
     "locked": true,
     "points": 0.25,
     "schema_version": 1,
     "solution": false
    }
   },
   "outputs": [],
   "source": [
    "## TESTS FOR Q9\n",
    "\n",
    "subj_age = 'old'\n",
    "score = 22\n",
    "\n",
    "# This line is a way to run & re-run the code you wrote\n",
    "%run -i ./A1Code/q9_code.py\n",
    "assert subj_status == 'Normal Ager'"
   ]
  },
  {
   "cell_type": "code",
   "execution_count": null,
   "metadata": {
    "deletable": false,
    "editable": false,
    "nbgrader": {
     "checksum": "5479c90b2005808a0e0516aa38c26e84",
     "grade": true,
     "grade_id": "cell-b05b4bec57b61e00",
     "locked": true,
     "points": 0.25,
     "schema_version": 1,
     "solution": false
    }
   },
   "outputs": [],
   "source": [
    "## TESTS FOR Q9\n",
    "\n",
    "subj_age = 'young'\n",
    "score = 29\n",
    "\n",
    "# This line is a way to run & re-run the code you wrote\n",
    "%run -i ./A1Code/q9_code.py\n",
    "assert subj_status == 'Normal Youth'"
   ]
  },
  {
   "cell_type": "code",
   "execution_count": null,
   "metadata": {
    "deletable": false,
    "editable": false,
    "nbgrader": {
     "checksum": "a30cd62b2322d62b03e1a040e6db3da2",
     "grade": true,
     "grade_id": "cell-0cc09b0683fdfd57",
     "locked": true,
     "points": 0.25,
     "schema_version": 1,
     "solution": false
    }
   },
   "outputs": [],
   "source": [
    "## TESTS FOR Q9\n",
    "\n",
    "subj_age = 'young'\n",
    "score = 21\n",
    "\n",
    "# This line is a way to run & re-run the code you wrote\n",
    "%run -i ./A1Code/q9_code.py\n",
    "assert subj_status == 'Bad Youth'"
   ]
  },
  {
   "cell_type": "markdown",
   "metadata": {},
   "source": [
    "### Q10 - Creating a Calculator (1 point)"
   ]
  },
  {
   "cell_type": "code",
   "execution_count": null,
   "metadata": {
    "deletable": false,
    "nbgrader": {
     "checksum": "292a2f0dce2ba0fbf503bb299ec1ef7a",
     "grade": false,
     "grade_id": "cell-d44d4aa343270410",
     "locked": false,
     "schema_version": 1,
     "solution": true
    }
   },
   "outputs": [],
   "source": [
    "%%writefile A1Code/q10_code.py\n",
    "\n",
    "# YOUR CODE HERE\n",
    "raise NotImplementedError()"
   ]
  },
  {
   "cell_type": "code",
   "execution_count": null,
   "metadata": {
    "deletable": false,
    "editable": false,
    "nbgrader": {
     "checksum": "6cdf3d3b659b6f47cc600199a8f954d1",
     "grade": false,
     "grade_id": "cell-de2322cae9e72634",
     "locked": true,
     "schema_version": 1,
     "solution": false
    }
   },
   "outputs": [],
   "source": [
    "# Set numbers for tests\n",
    "num1 = 21\n",
    "num2 = 3"
   ]
  },
  {
   "cell_type": "code",
   "execution_count": null,
   "metadata": {
    "deletable": false,
    "editable": false,
    "nbgrader": {
     "checksum": "23b4ec58342d4a94876a8d0815384d59",
     "grade": true,
     "grade_id": "cell-63991f35fb0fa2b7",
     "locked": true,
     "points": 0.2,
     "schema_version": 1,
     "solution": false
    }
   },
   "outputs": [],
   "source": [
    "## TESTS FOR Q10\n",
    "\n",
    "# Test for sum\n",
    "operation = 'add'\n",
    "%run -i ./A1Code/q10_code.py\n",
    "assert answer == 24"
   ]
  },
  {
   "cell_type": "code",
   "execution_count": null,
   "metadata": {
    "deletable": false,
    "editable": false,
    "nbgrader": {
     "checksum": "acbb6bcd8eaebd9315883cfe97655d46",
     "grade": true,
     "grade_id": "cell-df854472375eaaea",
     "locked": true,
     "points": 0.2,
     "schema_version": 1,
     "solution": false
    }
   },
   "outputs": [],
   "source": [
    "## TESTS FOR Q10\n",
    "\n",
    "# Test for subtract\n",
    "operation = 'subtract'\n",
    "%run -i ./A1Code/q10_code.py\n",
    "assert answer == 18"
   ]
  },
  {
   "cell_type": "code",
   "execution_count": null,
   "metadata": {
    "deletable": false,
    "editable": false,
    "nbgrader": {
     "checksum": "fdf49dc6488ec04bc33e45a589faaaca",
     "grade": true,
     "grade_id": "cell-5cb26332c714b7b6",
     "locked": true,
     "points": 0.2,
     "schema_version": 1,
     "solution": false
    }
   },
   "outputs": [],
   "source": [
    "## TESTS FOR Q10\n",
    "\n",
    "# Test for multiply\n",
    "operation = 'multiply'\n",
    "%run -i ./A1Code/q10_code.py\n",
    "assert answer == 63"
   ]
  },
  {
   "cell_type": "code",
   "execution_count": null,
   "metadata": {
    "deletable": false,
    "editable": false,
    "nbgrader": {
     "checksum": "7b634743e101b60be9585700e9e0f098",
     "grade": true,
     "grade_id": "cell-515fa93f1045b72f",
     "locked": true,
     "points": 0.2,
     "schema_version": 1,
     "solution": false
    }
   },
   "outputs": [],
   "source": [
    "## TESTS FOR Q10\n",
    "\n",
    "# Test for divide\n",
    "operation = 'divide'\n",
    "%run -i ./A1Code/q10_code.py\n",
    "assert answer == 7"
   ]
  },
  {
   "cell_type": "code",
   "execution_count": null,
   "metadata": {
    "deletable": false,
    "editable": false,
    "nbgrader": {
     "checksum": "0719984d01f3bba0a2fb68fcaf730da8",
     "grade": true,
     "grade_id": "cell-544aefbe440ec548",
     "locked": true,
     "points": 0.2,
     "schema_version": 1,
     "solution": false
    }
   },
   "outputs": [],
   "source": [
    "## TESTS FOR Q10\n",
    "\n",
    "# Test unrecognized operation\n",
    "operation = 'not a thing'\n",
    "%run -i ./A1Code/q10_code.py\n",
    "assert answer == None"
   ]
  }
 ],
 "metadata": {
  "kernelspec": {
   "display_name": "Python 3",
   "language": "python",
   "name": "python3"
  },
  "language_info": {
   "codemirror_mode": {
    "name": "ipython",
    "version": 3
   },
   "file_extension": ".py",
   "mimetype": "text/x-python",
   "name": "python",
   "nbconvert_exporter": "python",
   "pygments_lexer": "ipython3",
   "version": "3.6.3"
  }
 },
 "nbformat": 4,
 "nbformat_minor": 2
}
