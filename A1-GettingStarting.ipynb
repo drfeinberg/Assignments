{
 "cells": [
  {
   "cell_type": "markdown",
   "metadata": {
    "deletable": false,
    "editable": false,
    "nbgrader": {
     "checksum": "51a9451484da05675d3128abb708e02a",
     "grade": false,
     "grade_id": "cell-6d65dd6e007dbe8b",
     "locked": true,
     "schema_version": 1,
     "solution": false
    }
   },
   "source": [
    "# COGS 18 - Assignment 1: Getting Started\n",
    "\n",
    "This assignment covers Variables, Operators & Conditionals.\n",
    "\n",
    "This assignment is out of 6 points, worth 6% of your grade. "
   ]
  },
  {
   "cell_type": "markdown",
   "metadata": {
    "deletable": false,
    "editable": false,
    "nbgrader": {
     "checksum": "b56faa5708e57244c87478010582624f",
     "grade": false,
     "grade_id": "cell-076d94f60e5b8c08",
     "locked": true,
     "schema_version": 1,
     "solution": false
    }
   },
   "source": [
    "## How to complete assignments\n",
    "\n",
    "Whenever you see:\n",
    "\n",
    "YOUR CODE HERE <br>\n",
    "raise NotImplementedError()\n",
    "\n",
    "You need to replace this section with some code that answers the questions and meets the specified criteria. Make sure you remove the 'raise' line when you do this (or your notebook will raise an error, regardless of any other code, and thus fail the grading tests).\n",
    "\n",
    "Any cell with 'assert' statements in it is a test cell. You should not try to change or delete these cells. Note that there might be more than one assert that tests a particular question. \n",
    "\n",
    "If a test does fail, reading the error that is printed out should let you know which test failed, which may be useful for fixing it."
   ]
  },
  {
   "cell_type": "markdown",
   "metadata": {
    "deletable": false,
    "editable": false,
    "nbgrader": {
     "checksum": "c7cd270c1952968d91cecf9794175cb7",
     "grade": false,
     "grade_id": "cell-aa14d747b81ff70a",
     "locked": true,
     "schema_version": 1,
     "solution": false
    }
   },
   "source": [
    "## Tips & Tricks"
   ]
  },
  {
   "cell_type": "markdown",
   "metadata": {
    "deletable": false,
    "editable": false,
    "nbgrader": {
     "checksum": "88909ded16ebb6ff0bc7686e9ca397df",
     "grade": false,
     "grade_id": "cell-6412adb8ee6f881c",
     "locked": true,
     "schema_version": 1,
     "solution": false
    }
   },
   "source": [
    "### Printing Variables\n",
    "\n",
    "A reminder that you can (and should) print and check variables as you go.\n",
    "\n",
    "This allows you to check what values they hold, and fix things if anything unexpected happens"
   ]
  },
  {
   "cell_type": "code",
   "execution_count": null,
   "metadata": {
    "deletable": false,
    "editable": false,
    "nbgrader": {
     "checksum": "c9a80479aab4feabef091eb2bd8da199",
     "grade": false,
     "grade_id": "cell-2e5a6465a720c95f",
     "locked": true,
     "schema_version": 1,
     "solution": false
    }
   },
   "outputs": [],
   "source": [
    "# Define a variable\n",
    "math_result = 2 * 4\n",
    "\n",
    "# Print out the value(s) of a variable.\n",
    "print(math_result)"
   ]
  },
  {
   "cell_type": "markdown",
   "metadata": {
    "deletable": false,
    "editable": false,
    "nbgrader": {
     "checksum": "aceca4ab62c808b69a84676cfcf0dd68",
     "grade": false,
     "grade_id": "cell-3c55c888d33fd092",
     "locked": true,
     "schema_version": 1,
     "solution": false
    }
   },
   "source": [
    "### Restarting the Kernel\n",
    "\n",
    "TODO: Add note about restarting the kernel."
   ]
  },
  {
   "cell_type": "markdown",
   "metadata": {
    "deletable": false,
    "editable": false,
    "nbgrader": {
     "checksum": "cf0930800d131c23f0dfa5f22f324c14",
     "grade": false,
     "grade_id": "cell-e67b86c582091c92",
     "locked": true,
     "schema_version": 1,
     "solution": false
    }
   },
   "source": [
    "## Example Question\n",
    "\n",
    "Define a variable called `my_int` that stores the value 17. "
   ]
  },
  {
   "cell_type": "code",
   "execution_count": null,
   "metadata": {
    "deletable": false,
    "editable": false,
    "nbgrader": {
     "checksum": "0d01d87290069e8dc9b20a53ce343e8a",
     "grade": false,
     "grade_id": "cell-5bd6704f5d589daa",
     "locked": true,
     "schema_version": 1,
     "solution": false
    }
   },
   "outputs": [],
   "source": [
    "# YOUR CODE HERE\n",
    "my_int = 17"
   ]
  },
  {
   "cell_type": "code",
   "execution_count": null,
   "metadata": {
    "deletable": false,
    "editable": false,
    "nbgrader": {
     "checksum": "ec223d58310dbfd1ad3d6cfffb2aff9f",
     "grade": false,
     "grade_id": "cell-6ce35a31b948c276",
     "locked": true,
     "schema_version": 1,
     "solution": false
    }
   },
   "outputs": [],
   "source": [
    "assert  my_int                     # This tests that a variable exists\n",
    "assert  isinstance(my_int, int)    # This tests that a variable is of a particular type\n",
    "assert  my_int == 17               # This tests that a variable has a specified value"
   ]
  },
  {
   "cell_type": "markdown",
   "metadata": {
    "deletable": false,
    "editable": false,
    "nbgrader": {
     "checksum": "8512bd67e6073174ed58a1fadfd5739b",
     "grade": false,
     "grade_id": "cell-846f9501021cd702",
     "locked": true,
     "schema_version": 1,
     "solution": false
    }
   },
   "source": [
    "## SETUP\n",
    "\n",
    "Run the following cell before you start working on the assignment. \n",
    "\n",
    "TODO: Fill in quick description of what / what. "
   ]
  },
  {
   "cell_type": "code",
   "execution_count": null,
   "metadata": {
    "deletable": false,
    "editable": false,
    "nbgrader": {
     "checksum": "67a629238d6831aa4426a4d4082ad792",
     "grade": false,
     "grade_id": "cell-128b6f8c2059742f",
     "locked": true,
     "schema_version": 1,
     "solution": false
    }
   },
   "outputs": [],
   "source": [
    "import os\n",
    "if not os.path.exists('A1Code'):\n",
    "    os.mkdir('A1Code')"
   ]
  },
  {
   "cell_type": "markdown",
   "metadata": {
    "deletable": false,
    "editable": false,
    "nbgrader": {
     "checksum": "c5c845f99c9e5bfb1c77a7357403ee37",
     "grade": false,
     "grade_id": "cell-c9b88531d7cf61bc",
     "locked": true,
     "schema_version": 1,
     "solution": false
    }
   },
   "source": [
    "### Part I - Defining Variables\n",
    "\n",
    "Words, words, words."
   ]
  },
  {
   "cell_type": "markdown",
   "metadata": {
    "deletable": false,
    "editable": false,
    "nbgrader": {
     "checksum": "000176e8f135db406dc43820f2cc47b8",
     "grade": false,
     "grade_id": "cell-b28d47658f801568",
     "locked": true,
     "schema_version": 1,
     "solution": false
    }
   },
   "source": [
    "#### Q1 - Creating some variables\n",
    "\n",
    "Words, words, words."
   ]
  },
  {
   "cell_type": "code",
   "execution_count": null,
   "metadata": {
    "deletable": false,
    "nbgrader": {
     "checksum": "d5a67d880168128986c333acb3aaf130",
     "grade": false,
     "grade_id": "cell-aba100abfe23c75f",
     "locked": false,
     "schema_version": 1,
     "solution": true
    }
   },
   "outputs": [],
   "source": [
    "# Create the variables\n",
    "\n",
    "# YOUR CODE HERE\n",
    "raise NotImplementedError()"
   ]
  },
  {
   "cell_type": "code",
   "execution_count": null,
   "metadata": {
    "deletable": false,
    "editable": false,
    "nbgrader": {
     "checksum": "238de88b4ce32674b1df82d50670ff02",
     "grade": true,
     "grade_id": "cell-6d742eec19ccc8b1",
     "locked": true,
     "points": 0,
     "schema_version": 1,
     "solution": false
    }
   },
   "outputs": [],
   "source": [
    "# Check that variable `number` is an int, and has the correct value\n",
    "assert isinstance(number, int)\n",
    "assert number == 17\n",
    "\n",
    "# Check that variable `decimal` is a float, and has the correct value\n",
    "assert isinstance(decimal, float)\n",
    "assert decimal == 12.5\n",
    "\n",
    "# Check that variable `words` is a string, and has the correct value\n",
    "assert isinstance(word, str)\n",
    "assert word == \"cogs18\""
   ]
  },
  {
   "cell_type": "markdown",
   "metadata": {
    "deletable": false,
    "editable": false,
    "nbgrader": {
     "checksum": "ac7ca86146ba8484ccda86e4d9553611",
     "grade": false,
     "grade_id": "cell-8d41b849251ae120",
     "locked": true,
     "schema_version": 1,
     "solution": false
    }
   },
   "source": [
    "#### Q2 - stuff"
   ]
  },
  {
   "cell_type": "code",
   "execution_count": null,
   "metadata": {
    "deletable": false,
    "nbgrader": {
     "checksum": "8cf647dfc8f06efbf53f229e6785cb7b",
     "grade": false,
     "grade_id": "cell-1af9eb7f65d3fcb5",
     "locked": false,
     "schema_version": 1,
     "solution": true
    }
   },
   "outputs": [],
   "source": [
    "# TODO: Fill in\n",
    "\n",
    "# YOUR CODE HERE\n",
    "raise NotImplementedError()"
   ]
  },
  {
   "cell_type": "code",
   "execution_count": null,
   "metadata": {
    "deletable": false,
    "editable": false,
    "nbgrader": {
     "checksum": "672874831e150381ae87bb56cde29c7b",
     "grade": true,
     "grade_id": "cell-637394ece51ede49",
     "locked": true,
     "points": 0,
     "schema_version": 1,
     "solution": false
    }
   },
   "outputs": [],
   "source": [
    "assert not done"
   ]
  },
  {
   "cell_type": "markdown",
   "metadata": {
    "deletable": false,
    "editable": false,
    "nbgrader": {
     "checksum": "b99f3beea8c76887c5b884e52e7d6714",
     "grade": false,
     "grade_id": "cell-8b40ab8ecc72bd4f",
     "locked": true,
     "schema_version": 1,
     "solution": false
    }
   },
   "source": [
    "### Part II - Operations"
   ]
  },
  {
   "cell_type": "markdown",
   "metadata": {
    "deletable": false,
    "editable": false,
    "nbgrader": {
     "checksum": "756a59b13017c2c5d93d86ec7ee81e96",
     "grade": false,
     "grade_id": "cell-f3d4874fb42d84ee",
     "locked": true,
     "schema_version": 1,
     "solution": false
    }
   },
   "source": [
    "#### Q3 - Python as a Calculater"
   ]
  },
  {
   "cell_type": "code",
   "execution_count": null,
   "metadata": {
    "deletable": false,
    "editable": false,
    "nbgrader": {
     "checksum": "cfdb3885c19fa8697aa1cd5be8b327bf",
     "grade": false,
     "grade_id": "cell-b92668fca7f1ecd9",
     "locked": true,
     "schema_version": 1,
     "solution": false
    }
   },
   "outputs": [],
   "source": [
    "#\n",
    "int_1 = 47\n",
    "int_2 = 12\n",
    "\n",
    "float_1 = 22.1\n",
    "float_2 = 19.0"
   ]
  },
  {
   "cell_type": "code",
   "execution_count": null,
   "metadata": {
    "deletable": false,
    "nbgrader": {
     "checksum": "a72e9284222ad3f9ddd69aaf465a20ce",
     "grade": false,
     "grade_id": "cell-470235f72bd8d68d",
     "locked": false,
     "schema_version": 1,
     "solution": true
    }
   },
   "outputs": [],
   "source": [
    "# YOUR CODE HERE\n",
    "raise NotImplementedError()"
   ]
  },
  {
   "cell_type": "code",
   "execution_count": null,
   "metadata": {
    "deletable": false,
    "editable": false,
    "nbgrader": {
     "checksum": "c4fc8093a379fd3967dee56fdf5e994a",
     "grade": true,
     "grade_id": "cell-12af4e4d3179f69e",
     "locked": true,
     "points": 0,
     "schema_version": 1,
     "solution": false
    }
   },
   "outputs": [],
   "source": [
    "assert ans_1 == 1"
   ]
  },
  {
   "cell_type": "code",
   "execution_count": null,
   "metadata": {
    "deletable": false,
    "editable": false,
    "nbgrader": {
     "checksum": "448250714bb6b4089cc7b22e2a9f13b9",
     "grade": true,
     "grade_id": "cell-aeeac9dbb5198fef",
     "locked": true,
     "points": 0,
     "schema_version": 1,
     "solution": false
    }
   },
   "outputs": [],
   "source": [
    "assert ans_2 == 1"
   ]
  },
  {
   "cell_type": "markdown",
   "metadata": {
    "deletable": false,
    "editable": false,
    "nbgrader": {
     "checksum": "027f6ba8904e48753962d9312236b2c2",
     "grade": false,
     "grade_id": "cell-e3e75ad8f518edb6",
     "locked": true,
     "schema_version": 1,
     "solution": false
    }
   },
   "source": [
    "#### Q4 - String Manipulations"
   ]
  },
  {
   "cell_type": "code",
   "execution_count": null,
   "metadata": {
    "deletable": false,
    "editable": false,
    "nbgrader": {
     "checksum": "f1537490161eb5c8847b3cccd16fbba9",
     "grade": false,
     "grade_id": "cell-6db873ca774ada6a",
     "locked": true,
     "schema_version": 1,
     "solution": false
    }
   },
   "outputs": [],
   "source": [
    "str_1 = \"Python\"\n",
    "str_2 = \"is\"\n",
    "str_3 = \"fun!\""
   ]
  },
  {
   "cell_type": "code",
   "execution_count": null,
   "metadata": {
    "deletable": false,
    "nbgrader": {
     "checksum": "9a8b6a812a57ca08951f50f3e58dab55",
     "grade": false,
     "grade_id": "cell-eff2d0b53b5430eb",
     "locked": false,
     "schema_version": 1,
     "solution": true
    }
   },
   "outputs": [],
   "source": [
    "# YOUR CODE HERE\n",
    "raise NotImplementedError()"
   ]
  },
  {
   "cell_type": "code",
   "execution_count": null,
   "metadata": {
    "deletable": false,
    "editable": false,
    "nbgrader": {
     "checksum": "621f42d14091820e7377a7047aa1fc84",
     "grade": true,
     "grade_id": "cell-b9a1407c39acc29e",
     "locked": true,
     "points": 0,
     "schema_version": 1,
     "solution": false
    }
   },
   "outputs": [],
   "source": [
    "assert output == str_1 + ' ' + str_2 + ' ' + str_3"
   ]
  },
  {
   "cell_type": "markdown",
   "metadata": {
    "collapsed": true,
    "deletable": false,
    "editable": false,
    "nbgrader": {
     "checksum": "449496deef99e71bf1bc538bc03b6b51",
     "grade": false,
     "grade_id": "cell-411d9ec18325d1ee",
     "locked": true,
     "schema_version": 1,
     "solution": false
    }
   },
   "source": [
    "#### Q5 - Boolean Comparisons"
   ]
  },
  {
   "cell_type": "code",
   "execution_count": null,
   "metadata": {
    "deletable": false,
    "editable": false,
    "nbgrader": {
     "checksum": "37f4a2bcfae263e18f167aea2d017f3b",
     "grade": false,
     "grade_id": "cell-68d4f74dd85167fa",
     "locked": true,
     "schema_version": 1,
     "solution": false
    }
   },
   "outputs": [],
   "source": [
    "bool_1 = True\n",
    "bool_2 = False\n",
    "\n",
    "int_3 = 12\n",
    "int_4 = 54"
   ]
  },
  {
   "cell_type": "markdown",
   "metadata": {
    "deletable": false,
    "editable": false,
    "nbgrader": {
     "checksum": "90c264eb47237eed74c966454b709550",
     "grade": false,
     "grade_id": "cell-dd736bc1f50ffa9a",
     "locked": true,
     "schema_version": 1,
     "solution": false
    }
   },
   "source": [
    "### Part III - Conditionals"
   ]
  },
  {
   "cell_type": "markdown",
   "metadata": {
    "deletable": false,
    "editable": false,
    "nbgrader": {
     "checksum": "e349c01358950eb06ee0e58c99b5b38c",
     "grade": false,
     "grade_id": "cell-4cdae51d57c2a70a",
     "locked": true,
     "schema_version": 1,
     "solution": false
    }
   },
   "source": [
    "#### Q5 - stuff"
   ]
  },
  {
   "cell_type": "markdown",
   "metadata": {
    "deletable": false,
    "editable": false,
    "nbgrader": {
     "checksum": "be01c946e3a71432dea517fb0283070b",
     "grade": false,
     "grade_id": "cell-7f49689601179e2c",
     "locked": true,
     "schema_version": 1,
     "solution": false
    }
   },
   "source": [
    "#### Q6 - stuff"
   ]
  },
  {
   "cell_type": "code",
   "execution_count": null,
   "metadata": {
    "deletable": false,
    "nbgrader": {
     "checksum": "79e82f61d8f255a6cfa7c942715963a3",
     "grade": false,
     "grade_id": "cell-5fdac280e980848a",
     "locked": false,
     "schema_version": 1,
     "solution": true
    }
   },
   "outputs": [],
   "source": [
    "%%writefile A1Code/q6_code.py\n",
    "# ^ You can ignore this line - it is used to help check your code\n",
    "\n",
    "# YOUR CODE HERE\n",
    "raise NotImplementedError()"
   ]
  },
  {
   "cell_type": "code",
   "execution_count": null,
   "metadata": {
    "deletable": false,
    "editable": false,
    "nbgrader": {
     "checksum": "19e9e91622bfca672742409560ef4046",
     "grade": true,
     "grade_id": "cell-2e59c9f37e0310a5",
     "locked": true,
     "points": 0,
     "schema_version": 1,
     "solution": false
    }
   },
   "outputs": [],
   "source": [
    "# Initialize `thing`, to None\n",
    "thing = None\n",
    "\n",
    "# Set subj_age to old \n",
    "subj_age = 'old'\n",
    "\n",
    "# Check that code \n",
    "%run -i ./A1Code/q6_code.py\n",
    "assert thing\n",
    "assert isinstance(thing, bool)\n",
    "\n",
    "# Change subj_age and make sure the conditional still works\n",
    "subj_age = 'young'\n",
    "%run -i ./A1Code/q6_code.py\n",
    "\n",
    "assert not thing\n",
    "assert isinstance(thing, bool)"
   ]
  },
  {
   "cell_type": "markdown",
   "metadata": {
    "deletable": false,
    "editable": false,
    "nbgrader": {
     "checksum": "9b823eab331066506781f93ccf329b9f",
     "grade": false,
     "grade_id": "cell-45da2ec7a675543b",
     "locked": true,
     "schema_version": 1,
     "solution": false
    }
   },
   "source": [
    "### Part IV - Putting it all together"
   ]
  },
  {
   "cell_type": "code",
   "execution_count": null,
   "metadata": {
    "deletable": false,
    "editable": false,
    "nbgrader": {
     "checksum": "b96a5a44405ab1aef17ffa5cc15e6beb",
     "grade": false,
     "grade_id": "cell-c9365187ed4b6186",
     "locked": true,
     "schema_version": 1,
     "solution": false
    }
   },
   "outputs": [],
   "source": []
  },
  {
   "cell_type": "markdown",
   "metadata": {
    "deletable": false,
    "editable": false,
    "nbgrader": {
     "checksum": "66754c035fc7f4e1571b2ec9a5e5cec6",
     "grade": false,
     "grade_id": "cell-f40b5f989923430c",
     "locked": true,
     "schema_version": 1,
     "solution": false
    }
   },
   "source": [
    "#### Q7 - stuff"
   ]
  },
  {
   "cell_type": "code",
   "execution_count": null,
   "metadata": {
    "deletable": false,
    "editable": false,
    "nbgrader": {
     "checksum": "dc962bc6d73cc6ab35c264b5806e206a",
     "grade": false,
     "grade_id": "cell-9294396e7f0662e1",
     "locked": true,
     "schema_version": 1,
     "solution": false
    }
   },
   "outputs": [],
   "source": []
  },
  {
   "cell_type": "markdown",
   "metadata": {
    "deletable": false,
    "editable": false,
    "nbgrader": {
     "checksum": "a5b2aca456846915a010f52dba6c3118",
     "grade": false,
     "grade_id": "cell-d5ad289a4b1d7a47",
     "locked": true,
     "schema_version": 1,
     "solution": false
    }
   },
   "source": [
    "#### Q8 - stuff"
   ]
  },
  {
   "cell_type": "code",
   "execution_count": null,
   "metadata": {
    "deletable": false,
    "editable": false,
    "nbgrader": {
     "checksum": "2245074e0e1b6849502d4ff3616ad272",
     "grade": false,
     "grade_id": "cell-85a6ead37b8a160e",
     "locked": true,
     "schema_version": 1,
     "solution": false
    }
   },
   "outputs": [],
   "source": []
  }
 ],
 "metadata": {
  "kernelspec": {
   "display_name": "Python 3",
   "language": "python",
   "name": "python3"
  },
  "language_info": {
   "codemirror_mode": {
    "name": "ipython",
    "version": 3
   },
   "file_extension": ".py",
   "mimetype": "text/x-python",
   "name": "python",
   "nbconvert_exporter": "python",
   "pygments_lexer": "ipython3",
   "version": "3.6.3"
  }
 },
 "nbformat": 4,
 "nbformat_minor": 2
}
