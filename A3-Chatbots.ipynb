{
 "cells": [
  {
   "cell_type": "markdown",
   "metadata": {
    "deletable": false,
    "editable": false,
    "nbgrader": {
     "checksum": "f7aa6a23308faaed443991c360f708a9",
     "grade": false,
     "grade_id": "cell-08eae0a733656950",
     "locked": true,
     "schema_version": 1,
     "solution": false
    }
   },
   "source": [
    "# Assignment 3: Chatbots"
   ]
  },
  {
   "cell_type": "markdown",
   "metadata": {
    "deletable": false,
    "editable": false,
    "nbgrader": {
     "checksum": "fbcab3498d656408025281c0ecd48b13",
     "grade": false,
     "grade_id": "cell-a58f937c696fa18d",
     "locked": true,
     "schema_version": 1,
     "solution": false
    }
   },
   "source": [
    "## Overview\n",
    "\n",
    "This assignment covers Functions & Algorithms, and builds up to the application of Chatbots. \n",
    "\n",
    "This assignment is out of 8 points, worth 8% of your grade.\n",
    "\n",
    "Make sure your completed assignment passes all the asserts. This assignment also has hidden tests - which means that passing all the asserts you see does not guarantee that you have the correct answer! Make sure to double check and re-run your code to make sure it does what you expect, and that the variables you define end up with values you'd expect. "
   ]
  },
  {
   "cell_type": "markdown",
   "metadata": {
    "deletable": false,
    "editable": false,
    "nbgrader": {
     "checksum": "38e16ce5554c1deabb2625792abb0488",
     "grade": false,
     "grade_id": "cell-564134b0a1d0a91a",
     "locked": true,
     "schema_version": 1,
     "solution": false
    }
   },
   "source": [
    "## Setup"
   ]
  },
  {
   "cell_type": "markdown",
   "metadata": {
    "deletable": false,
    "editable": false,
    "nbgrader": {
     "checksum": "ae2a292f55375282ea6ed953c281d8dc",
     "grade": false,
     "grade_id": "cell-07c8f958ea9f47b5",
     "locked": true,
     "schema_version": 1,
     "solution": false
    }
   },
   "source": [
    "#### Code Imports\n",
    "\n",
    "You must run the following cell before proceeding with the last part of the assignment. "
   ]
  },
  {
   "cell_type": "code",
   "execution_count": null,
   "metadata": {
    "deletable": false,
    "editable": false,
    "nbgrader": {
     "checksum": "856f56189eb34e3effd4d7e7f1b307eb",
     "grade": false,
     "grade_id": "cell-d79eb9b76b42d8ac",
     "locked": true,
     "schema_version": 1,
     "solution": false
    }
   },
   "outputs": [],
   "source": [
    "# Setup - run this cell before doing the next part of the assignment\n",
    "#   This imports some extra code, making it available for us to use later\n",
    "import string\n",
    "import random\n",
    "import nltk"
   ]
  },
  {
   "cell_type": "markdown",
   "metadata": {
    "deletable": false,
    "editable": false,
    "nbgrader": {
     "checksum": "a580f605130f65fb55a34a970e2abdaf",
     "grade": false,
     "grade_id": "cell-467c5c2c4995c775",
     "locked": true,
     "schema_version": 1,
     "solution": false
    }
   },
   "source": [
    "### Zen Chatbot\n",
    "\n",
    "In this assignment, we will be working our way up to building a chatbot.\n",
    "\n",
    "If you get stuck on anything, come back here, and talk to the Zen chatbot, to relax :)"
   ]
  },
  {
   "cell_type": "code",
   "execution_count": null,
   "metadata": {},
   "outputs": [],
   "source": [
    "# Run this cell to talk to a Zan Chatbot\n",
    "#nltk.chat.zen.demo()"
   ]
  },
  {
   "cell_type": "markdown",
   "metadata": {
    "deletable": false,
    "editable": false,
    "nbgrader": {
     "checksum": "8a50fc0f68509edb95743a4dd0c9e189",
     "grade": false,
     "grade_id": "cell-a11c701a459782ac",
     "locked": true,
     "schema_version": 1,
     "solution": false
    }
   },
   "source": [
    "## Part 1: Functions \n",
    "\n",
    "This part covers the basics of functions."
   ]
  },
  {
   "cell_type": "markdown",
   "metadata": {
    "deletable": false,
    "editable": false,
    "nbgrader": {
     "checksum": "073cc065a92d1be71f130b3f75e96229",
     "grade": false,
     "grade_id": "cell-1c30443594de8f5a",
     "locked": true,
     "schema_version": 1,
     "solution": false
    }
   },
   "source": [
    "### Q1 - String Concatenation Function (X points)\n",
    "\n",
    "Create a function that will concatenate two strings, also adding a space between them. \n",
    "\n",
    "To do so, write a function called `string_concatenation` which takes two parameters `string1` and `string2`. \n",
    "\n",
    "Inside the function, you are going to concatenate `string1` to `string2`, while also adding a space between the two strings. \n",
    "\n",
    "The function should then return the result of this string concatenation."
   ]
  },
  {
   "cell_type": "code",
   "execution_count": null,
   "metadata": {
    "deletable": false,
    "nbgrader": {
     "checksum": "e1f62e6de1f53415d1d4f994825aa96c",
     "grade": false,
     "grade_id": "cell-49ddc5e0ebfe33f2",
     "locked": false,
     "schema_version": 1,
     "solution": true
    }
   },
   "outputs": [],
   "source": [
    "# YOUR CODE HERE\n",
    "raise NotImplementedError()"
   ]
  },
  {
   "cell_type": "code",
   "execution_count": null,
   "metadata": {
    "deletable": false,
    "editable": false,
    "nbgrader": {
     "checksum": "3628fb0622b1c947d1a7cc37dd3b599f",
     "grade": true,
     "grade_id": "cell-d8f9d72d0d4c6be5",
     "locked": true,
     "points": 1,
     "schema_version": 1,
     "solution": false
    }
   },
   "outputs": [],
   "source": [
    "assert callable(string_concatenation)\n",
    "assert isinstance(string_concatenation('hello', 'world'), str)\n",
    "assert string_concatenation('hello', 'world') == 'hello world'\n"
   ]
  },
  {
   "cell_type": "markdown",
   "metadata": {
    "deletable": false,
    "editable": false,
    "nbgrader": {
     "checksum": "5711254d0187af8ed57c403ce928d5e7",
     "grade": false,
     "grade_id": "cell-e7a7c39a4716fdf2",
     "locked": true,
     "schema_version": 1,
     "solution": false
    }
   },
   "source": [
    "### Q2 - Find max value  (X points)\n",
    "\n",
    "Write a function called `find_max`, that takes in a single parameter called `random_list`, which should be a list. \n",
    "\n",
    "This function will the max value of the input list, and return it. \n",
    "\n",
    "In particular this function will assume list of positive numbers.\n",
    "\n",
    "To find the max, within the function, use a variable called `list_max`, that you initialize to value 0. \n",
    "\n",
    "Then use a loop, to loop across `random_list`. \n",
    "\n",
    "Inside the list, use a conditional to check if the current value is larger than `list_max`, and if so, re-assign `list_max` to store this new value.\n",
    "\n",
    "After the loop, return `list_max`, which should now store the maximum value from within the input list. "
   ]
  },
  {
   "cell_type": "code",
   "execution_count": null,
   "metadata": {
    "deletable": false,
    "nbgrader": {
     "checksum": "581dae803022e87f176448f9cc9bc61b",
     "grade": false,
     "grade_id": "cell-23d051fdc803f0bd",
     "locked": false,
     "schema_version": 1,
     "solution": true
    }
   },
   "outputs": [],
   "source": [
    "# YOUR CODE HERE\n",
    "raise NotImplementedError()"
   ]
  },
  {
   "cell_type": "code",
   "execution_count": null,
   "metadata": {
    "deletable": false,
    "editable": false,
    "nbgrader": {
     "checksum": "284e8662ab940e72d573ca10bf49b347",
     "grade": true,
     "grade_id": "cell-404d30e1e65b6b83",
     "locked": true,
     "points": 1,
     "schema_version": 1,
     "solution": false
    }
   },
   "outputs": [],
   "source": [
    "assert callable(find_max)\n",
    "assert isinstance(find_max([1,7,5]), int)\n",
    "assert find_max([1,7,5]) == 7\n"
   ]
  },
  {
   "cell_type": "markdown",
   "metadata": {
    "deletable": false,
    "editable": false,
    "nbgrader": {
     "checksum": "973b9ef151948eefc842d68a28588dfd",
     "grade": false,
     "grade_id": "cell-38a3d14601b680c5",
     "locked": true,
     "schema_version": 1,
     "solution": false
    }
   },
   "source": [
    "### Q3 - Square Everything  (X points)\n",
    "\n",
    "Write a function called `square_all` that takes an input called `collection` that you assume to be a list or tuple of numbers. \n",
    "\n",
    "This function should return a new list, which contains the square of each value in `collection`. \n",
    "\n",
    "To do so, you will write a loop inside the function, and also use the `append` method. "
   ]
  },
  {
   "cell_type": "code",
   "execution_count": null,
   "metadata": {
    "deletable": false,
    "nbgrader": {
     "checksum": "cfd3688ac83a28010b721c0df60da30d",
     "grade": false,
     "grade_id": "cell-5993fedb7f503a6f",
     "locked": false,
     "schema_version": 1,
     "solution": true
    }
   },
   "outputs": [],
   "source": [
    "# YOUR CODE HERE\n",
    "raise NotImplementedError()"
   ]
  },
  {
   "cell_type": "code",
   "execution_count": null,
   "metadata": {
    "deletable": false,
    "editable": false,
    "nbgrader": {
     "checksum": "51d202f2a28ae5703b61dea19a48c72e",
     "grade": true,
     "grade_id": "cell-8a86a6f3ec803f9c",
     "locked": true,
     "points": 1,
     "schema_version": 1,
     "solution": false
    }
   },
   "outputs": [],
   "source": [
    "assert callable(square_all)\n",
    "assert isinstance(square_all([1, 2]), list)\n",
    "assert square_all((2, 4)) == [4, 16]\n",
    " "
   ]
  },
  {
   "cell_type": "markdown",
   "metadata": {
    "deletable": false,
    "editable": false,
    "nbgrader": {
     "checksum": "08b56c4c28fdf22209713ee51b9ce4b8",
     "grade": false,
     "grade_id": "cell-8be1de030251012d",
     "locked": true,
     "schema_version": 1,
     "solution": false
    }
   },
   "source": [
    "## Part 2: Refactoring Code to Use Functions\n",
    "\n",
    "'Refactoring' is the process of updating existing computer code, to keep the same outputs, but with a better internal organization and/or properties. \n",
    "\n",
    "We have already written a lot of code in previous assignments. However, since we did not yet have functions, a lot of that code is not very easy to re-use. In this section we will refactor some code - rewriting (and extending) some code from previous assignments as functions, that will be easier to re-use. "
   ]
  },
  {
   "cell_type": "markdown",
   "metadata": {
    "deletable": false,
    "editable": false,
    "nbgrader": {
     "checksum": "1d903ce2f73fce85319794042c56e8f5",
     "grade": false,
     "grade_id": "cell-885973b0697cb568",
     "locked": true,
     "schema_version": 1,
     "solution": false
    }
   },
   "source": [
    "### Q4 - Calculator (X points)\n",
    "\n",
    "Let's start with the calculator functions that we did in a previous assignment. \n",
    "\n",
    "Instead of the conditional, we will make \n",
    "\n",
    "Define four functions, called `summation`, `subtraction`, `multiplication`, and `division`. \n",
    "\n",
    "Each of them will take two inputs `num1` and `num2`, on use them as follows:\n",
    "- `summation` will add `num1` to `num2` and return the result\n",
    "- `subtraction` will subtract `num2` from `num1` and return the result\n",
    "- `multiplication` will multiply `num1` by `num2` and return the result\n",
    "- `division` will divide `num1` by `num2` and return the result"
   ]
  },
  {
   "cell_type": "code",
   "execution_count": null,
   "metadata": {
    "deletable": false,
    "nbgrader": {
     "checksum": "0b41efbabe21c146104cb6fbc04477a8",
     "grade": false,
     "grade_id": "cell-6da5de076983020f",
     "locked": false,
     "schema_version": 1,
     "solution": true
    }
   },
   "outputs": [],
   "source": [
    "# YOUR CODE HERE\n",
    "raise NotImplementedError()"
   ]
  },
  {
   "cell_type": "code",
   "execution_count": null,
   "metadata": {
    "deletable": false,
    "editable": false,
    "nbgrader": {
     "checksum": "fcef791bbdc04d897fddc68cbd0a6b33",
     "grade": true,
     "grade_id": "cell-2db5b9469ddd3f5e",
     "locked": true,
     "points": 1,
     "schema_version": 1,
     "solution": false
    }
   },
   "outputs": [],
   "source": [
    "assert callable(summation)\n",
    "assert isinstance(summation(2, 2), int)\n",
    "assert summation(1, 1) == 2\n"
   ]
  },
  {
   "cell_type": "code",
   "execution_count": null,
   "metadata": {
    "deletable": false,
    "editable": false,
    "nbgrader": {
     "checksum": "1d7e26f743d4bd65fd74c13f1615e9ce",
     "grade": true,
     "grade_id": "cell-0e21e32dc2acc953",
     "locked": true,
     "points": 1,
     "schema_version": 1,
     "solution": false
    }
   },
   "outputs": [],
   "source": [
    "assert callable(subtraction)\n",
    "assert isinstance(subtraction(2, 2), int)\n",
    "assert subtraction(1, 1) == 0\n"
   ]
  },
  {
   "cell_type": "code",
   "execution_count": null,
   "metadata": {
    "deletable": false,
    "editable": false,
    "nbgrader": {
     "checksum": "e6ad6e7895c166169ccfe506862fcc9e",
     "grade": true,
     "grade_id": "cell-89646145e140818b",
     "locked": true,
     "points": 1,
     "schema_version": 1,
     "solution": false
    }
   },
   "outputs": [],
   "source": [
    "assert callable(multiplication)\n",
    "assert isinstance(multiplication(2, 2), int)\n",
    "assert multiplication(1, 1) == 1\n"
   ]
  },
  {
   "cell_type": "code",
   "execution_count": null,
   "metadata": {
    "deletable": false,
    "editable": false,
    "nbgrader": {
     "checksum": "07e378ec2a35e0a950778a63695d5969",
     "grade": true,
     "grade_id": "cell-065fccebdd8cda04",
     "locked": true,
     "points": 1,
     "schema_version": 1,
     "solution": false
    }
   },
   "outputs": [],
   "source": [
    "assert callable(division)\n",
    "assert isinstance(division(2, 2), float)\n",
    "assert division(1, 1) == 1\n"
   ]
  },
  {
   "cell_type": "markdown",
   "metadata": {
    "deletable": false,
    "editable": false,
    "nbgrader": {
     "checksum": "0bfaa85a2fb74bf54d915764a684e2ba",
     "grade": false,
     "grade_id": "cell-5ab08f68dc71b58a",
     "locked": true,
     "schema_version": 1,
     "solution": false
    }
   },
   "source": [
    "### Q4 (cont) - Extending our Calculator  (X points)\n",
    "\n",
    "Let's now add some more functions to our calculator. \n",
    "\n",
    "- Write a function called squared() that takes one parameter, called `num`, and returns the square of it. \n",
    "- Write a function called square_root() that takes one parameter, called `num`, and returns the square root of it. "
   ]
  },
  {
   "cell_type": "code",
   "execution_count": null,
   "metadata": {
    "deletable": false,
    "nbgrader": {
     "checksum": "73a5d6eeb4525bca2aaa5d347151adf8",
     "grade": false,
     "grade_id": "cell-249d571080483d7e",
     "locked": false,
     "schema_version": 1,
     "solution": true
    }
   },
   "outputs": [],
   "source": [
    "# YOUR CODE HERE\n",
    "raise NotImplementedError()"
   ]
  },
  {
   "cell_type": "code",
   "execution_count": null,
   "metadata": {
    "deletable": false,
    "editable": false,
    "nbgrader": {
     "checksum": "7249b0261a5b0c0d79e679ef5fbb2930",
     "grade": true,
     "grade_id": "cell-d9c2b8004a926b36",
     "locked": true,
     "points": 1,
     "schema_version": 1,
     "solution": false
    }
   },
   "outputs": [],
   "source": [
    "assert callable(square)\n",
    "assert isinstance(square(2), int)\n",
    "assert square(5) == 25\n"
   ]
  },
  {
   "cell_type": "code",
   "execution_count": null,
   "metadata": {
    "deletable": false,
    "editable": false,
    "nbgrader": {
     "checksum": "063399152b5ed37f5f08f372db0a05a6",
     "grade": true,
     "grade_id": "cell-259646bd6dbbc035",
     "locked": true,
     "points": 1,
     "schema_version": 1,
     "solution": false
    }
   },
   "outputs": [],
   "source": [
    "assert callable(square_root)\n",
    "assert isinstance(square_root(4), float)\n",
    "assert square_root(144) == 12\n"
   ]
  },
  {
   "cell_type": "markdown",
   "metadata": {
    "deletable": false,
    "editable": false,
    "nbgrader": {
     "checksum": "d26eff31df948361fc90f12b76c4db0d",
     "grade": false,
     "grade_id": "cell-9bbb8063da29deb3",
     "locked": true,
     "schema_version": 1,
     "solution": false
    }
   },
   "source": [
    "### Example\n",
    "\n",
    "The goal of using functions is to be able to re-use them, as well as to apply and combine functions together. \n",
    "\n",
    "The cell below shows a couple examples of using our calculator functions that we have now defined. "
   ]
  },
  {
   "cell_type": "code",
   "execution_count": null,
   "metadata": {
    "deletable": false,
    "editable": false,
    "nbgrader": {
     "checksum": "ef43347a0339bbeb87a092cc975d9ad2",
     "grade": false,
     "grade_id": "cell-721029323933293f",
     "locked": true,
     "schema_version": 1,
     "solution": false
    }
   },
   "outputs": [],
   "source": [
    "# Add the multiplication of 2 and 3 to the multiplication of 3 and 4\n",
    "number1 = multiplication(2, 3)\n",
    "number2 = multiplication(3, 4)\n",
    "output1 = summation(number1, number2)\n",
    "print('Output1: \\t', output1)\n",
    "\n",
    "print('')\n",
    "\n",
    "# Note that we can call functions as inputs to \n",
    "# Therefore, the above construction is equivalent to:\n",
    "output2 = summation(multiplication(2, 3), multiplication(3, 4))\n",
    "print('Output2: \\t', output2)"
   ]
  },
  {
   "cell_type": "markdown",
   "metadata": {
    "deletable": false,
    "editable": false,
    "nbgrader": {
     "checksum": "e7d603e046d9108bf45ff83537520cb5",
     "grade": false,
     "grade_id": "cell-d5566ec96e20686b",
     "locked": true,
     "schema_version": 1,
     "solution": false
    }
   },
   "source": [
    "### Q5 - Using Our Calculator  (X points)\n",
    "\n",
    "Let's now use our new calculator functions to do some calculations!\n",
    "\n",
    "- Add the square of 3 to the square root of 9\n",
    "    - Save the result to a variable called `calc_a`\n",
    "- Subtract the division of 12 by 3 from the the multiplication of 2 and 4\n",
    "    - Save the result to a variable called `calc_b`\n",
    "- Multiply the square root of 16 to the sum of 7 and 9\n",
    "    - Save the result to a variable called `calc_c`\n",
    "- Divide the square of 7 by the square root of 49\n",
    "    - Save the result to a variable called `calc_d`"
   ]
  },
  {
   "cell_type": "code",
   "execution_count": null,
   "metadata": {
    "deletable": false,
    "nbgrader": {
     "checksum": "002c6134313e03b0ab99864d05ebae94",
     "grade": false,
     "grade_id": "cell-78166757e331fd3f",
     "locked": false,
     "schema_version": 1,
     "solution": true
    }
   },
   "outputs": [],
   "source": [
    "# YOUR CODE HERE\n",
    "raise NotImplementedError()"
   ]
  },
  {
   "cell_type": "code",
   "execution_count": null,
   "metadata": {
    "deletable": false,
    "editable": false,
    "nbgrader": {
     "checksum": "91f828810161736d41d93457c8618c91",
     "grade": true,
     "grade_id": "cell-e29a42fbdc3ccdc5",
     "locked": true,
     "points": 1,
     "schema_version": 1,
     "solution": false
    }
   },
   "outputs": [],
   "source": [
    "assert calc_a\n",
    "assert isinstance(calc_a, float)\n"
   ]
  },
  {
   "cell_type": "code",
   "execution_count": null,
   "metadata": {
    "deletable": false,
    "editable": false,
    "nbgrader": {
     "checksum": "747443eeeacbf5a8033741306b4eb603",
     "grade": true,
     "grade_id": "cell-00d84e7f456e3984",
     "locked": true,
     "points": 1,
     "schema_version": 1,
     "solution": false
    }
   },
   "outputs": [],
   "source": [
    "assert calc_b\n",
    "assert isinstance(calc_b, float)\n"
   ]
  },
  {
   "cell_type": "code",
   "execution_count": null,
   "metadata": {
    "deletable": false,
    "editable": false,
    "nbgrader": {
     "checksum": "19003cbd17ebf3f813e4a15e5d9c3bed",
     "grade": true,
     "grade_id": "cell-c5231a0cfa605a94",
     "locked": true,
     "points": 1,
     "schema_version": 1,
     "solution": false
    }
   },
   "outputs": [],
   "source": [
    "assert calc_c\n",
    "assert isinstance(calc_c, float)\n"
   ]
  },
  {
   "cell_type": "code",
   "execution_count": null,
   "metadata": {
    "deletable": false,
    "editable": false,
    "nbgrader": {
     "checksum": "4c025555305dfe550b9bb06697d37990",
     "grade": true,
     "grade_id": "cell-9b225dabad981fb1",
     "locked": true,
     "points": 1,
     "schema_version": 1,
     "solution": false
    }
   },
   "outputs": [],
   "source": [
    "assert calc_d\n",
    "assert isinstance(calc_d, float)\n"
   ]
  },
  {
   "cell_type": "markdown",
   "metadata": {
    "deletable": false,
    "editable": false,
    "nbgrader": {
     "checksum": "d60f1d090a034b9c43f03cfbd2942448",
     "grade": false,
     "grade_id": "cell-2231e1b02c9db35e",
     "locked": true,
     "schema_version": 1,
     "solution": false
    }
   },
   "source": [
    "### Calling Functions from Functions\n",
    "\n",
    "In the example above, we were able to refactor our code into re-useable functions. \n",
    "\n",
    "We were then able to use these functions and chain them together to flexibly and extensibly do computation.\n",
    "\n",
    "Next we'll dive into another aspect of writing good modular code: dividing complex tasks into independent functions and then using them together.\n",
    "\n",
    "In practice, this will look like writing small and specific function to do particular things, and then using those functions in bigger functions."
   ]
  },
  {
   "cell_type": "markdown",
   "metadata": {
    "deletable": false,
    "editable": false,
    "nbgrader": {
     "checksum": "63b223a504816b228d792ce2dbea9275",
     "grade": false,
     "grade_id": "cell-b72503c9394572ce",
     "locked": true,
     "schema_version": 1,
     "solution": false
    }
   },
   "source": [
    "### Q6 - Functions for Even & Positive Numbers (X points)\n",
    "\n",
    "Recall Q13 from A2, when we wanted to check a series of conditions across items in a list. \n",
    "\n",
    "When writing modular code, we should consider that of these conditions is a separate task, and therefore should be a separate task. \n",
    "\n",
    "For question, write two functions, one called `is_even`, and the other `is_positive`. \n",
    "\n",
    "Each function should take in a single parameter, a number called `value`. \n",
    "\n",
    "- `is_even` will check if that number is even, and return `True` if so, and `False` otherwise. \n",
    "- `is_positive` will check if that number is positive, and return `True` if so, and `False` otherwise. \n",
    "    - Note"
   ]
  },
  {
   "cell_type": "code",
   "execution_count": null,
   "metadata": {
    "deletable": false,
    "nbgrader": {
     "checksum": "5526d5a2b6adaddbb66b19410116927d",
     "grade": false,
     "grade_id": "cell-9224aadc2edad42d",
     "locked": false,
     "schema_version": 1,
     "solution": true
    }
   },
   "outputs": [],
   "source": [
    "# YOUR CODE HERE\n",
    "raise NotImplementedError()"
   ]
  },
  {
   "cell_type": "code",
   "execution_count": null,
   "metadata": {
    "deletable": false,
    "editable": false,
    "nbgrader": {
     "checksum": "7f38254288c1c21389082d437380e779",
     "grade": true,
     "grade_id": "cell-503641a289240788",
     "locked": true,
     "points": 1,
     "schema_version": 1,
     "solution": false
    }
   },
   "outputs": [],
   "source": [
    "assert callable(is_even)\n",
    "assert isinstance(is_even(3), bool)\n",
    "assert is_even(3) == False\n"
   ]
  },
  {
   "cell_type": "code",
   "execution_count": null,
   "metadata": {
    "deletable": false,
    "editable": false,
    "nbgrader": {
     "checksum": "198e85c8b20fe61ac231d2809025c7bd",
     "grade": true,
     "grade_id": "cell-6fa9bc215ef4255e",
     "locked": true,
     "points": 1,
     "schema_version": 1,
     "solution": false
    }
   },
   "outputs": [],
   "source": [
    "assert callable(is_positive)\n",
    "assert isinstance(is_positive(3), bool)\n",
    "assert is_positive(-2) == False\n"
   ]
  },
  {
   "cell_type": "markdown",
   "metadata": {
    "deletable": false,
    "editable": false,
    "nbgrader": {
     "checksum": "ec83e60481c0dedd7c40c12e8a376ecb",
     "grade": false,
     "grade_id": "cell-9111802da28eeb60",
     "locked": true,
     "schema_version": 1,
     "solution": false
    }
   },
   "source": [
    "### Q7 - Functions Using Functions (X points)\n",
    "\n",
    "In this section, your are going to recreate a function called `make_new_list` which takes a list called `data_list` as its input. \n",
    "\n",
    "This function will use `is_positive` and `is_even` to mimic the task from A2-Q13. \n",
    "\n",
    "That is, this function will  check each value in `data_list` to see if they are even or odd and whether they are positive or negative.\n",
    "- If they are both positive and even, encode this as the number 1\n",
    "- If they are both negative and odd, encode this as the the number -1\n",
    "- Otherwise, encode this as the number 0\n",
    "\n",
    "- Store the result for each value into a list called `output` and return it."
   ]
  },
  {
   "cell_type": "code",
   "execution_count": null,
   "metadata": {
    "deletable": false,
    "nbgrader": {
     "checksum": "6498454cd0813ea90a3cb53af2383461",
     "grade": false,
     "grade_id": "cell-3566bef39096e64e",
     "locked": false,
     "schema_version": 1,
     "solution": true
    }
   },
   "outputs": [],
   "source": [
    "# YOUR CODE HERE\n",
    "raise NotImplementedError()"
   ]
  },
  {
   "cell_type": "code",
   "execution_count": null,
   "metadata": {
    "deletable": false,
    "editable": false,
    "nbgrader": {
     "checksum": "074a4ed50d50eb23a3235627386cbde5",
     "grade": true,
     "grade_id": "cell-3db389fe414cc8f7",
     "locked": true,
     "points": 1,
     "schema_version": 1,
     "solution": false
    }
   },
   "outputs": [],
   "source": [
    "assert callable(make_new_list)\n",
    "\n",
    "data_list = [-1, 20, -100, -40, 33, 97, -101, 45, -79, 96]\n",
    "assert isinstance(make_new_list(data_list), list)\n",
    "assert(len(make_new_list(data_list)) == len(data_list))\n"
   ]
  },
  {
   "cell_type": "markdown",
   "metadata": {
    "deletable": false,
    "editable": false,
    "nbgrader": {
     "checksum": "c56f9f00f0c5c6519adfa35f09dd5bd8",
     "grade": false,
     "grade_id": "cell-5eb9a700f526c52e",
     "locked": true,
     "schema_version": 1,
     "solution": false
    }
   },
   "source": [
    "## Part 3: Algorithms\n",
    "\n",
    "This part covers working with algorithms."
   ]
  },
  {
   "cell_type": "markdown",
   "metadata": {
    "deletable": false,
    "editable": false,
    "nbgrader": {
     "checksum": "2802d22542eefad99ebf2db991f04e57",
     "grade": false,
     "grade_id": "cell-06651a992776948c",
     "locked": true,
     "schema_version": 1,
     "solution": false
    }
   },
   "source": [
    "### Q8 - Algorithms (X points)\n",
    "\n",
    "For each of the tasks below, indicate whether you think it is something that a human or a computer would be better at doing. \n",
    "\n",
    "- a) xxx\n",
    "    - Answer in a variable called algo_q_a\n",
    "- b) xxx\n",
    "    - Answer in a variable called algo_q_b\n",
    "- c) xxx\n",
    "    - Answer in a variable called algo_q_c\n",
    "- d) xxx\n",
    "    - Answer in a variable called algo_q_d"
   ]
  },
  {
   "cell_type": "code",
   "execution_count": null,
   "metadata": {
    "deletable": false,
    "nbgrader": {
     "checksum": "bb6099205a54bc5042056e7b79569a6a",
     "grade": false,
     "grade_id": "cell-af2676bac17c5d61",
     "locked": false,
     "schema_version": 1,
     "solution": true
    }
   },
   "outputs": [],
   "source": [
    "# YOUR CODE HERE\n",
    "raise NotImplementedError()"
   ]
  },
  {
   "cell_type": "code",
   "execution_count": null,
   "metadata": {
    "deletable": false,
    "editable": false,
    "nbgrader": {
     "checksum": "130930678293c6965340d64698053a48",
     "grade": true,
     "grade_id": "cell-b2c5af845ab5e0e3",
     "locked": true,
     "points": 1,
     "schema_version": 1,
     "solution": false
    }
   },
   "outputs": [],
   "source": [
    "assert algo_q_a in ['human', 'computer']\n"
   ]
  },
  {
   "cell_type": "code",
   "execution_count": null,
   "metadata": {
    "deletable": false,
    "editable": false,
    "nbgrader": {
     "checksum": "7f24c939fa11334b499e32c3cd78f1bc",
     "grade": true,
     "grade_id": "cell-863830055e228463",
     "locked": true,
     "points": 1,
     "schema_version": 1,
     "solution": false
    }
   },
   "outputs": [],
   "source": [
    "assert algo_q_b in ['human', 'computer']\n"
   ]
  },
  {
   "cell_type": "code",
   "execution_count": null,
   "metadata": {
    "deletable": false,
    "editable": false,
    "nbgrader": {
     "checksum": "82ca1698a11fa5e02197e39704da4217",
     "grade": true,
     "grade_id": "cell-be637c928edced6b",
     "locked": true,
     "points": 1,
     "schema_version": 1,
     "solution": false
    }
   },
   "outputs": [],
   "source": [
    "assert algo_q_c in ['human', 'computer']\n"
   ]
  },
  {
   "cell_type": "code",
   "execution_count": null,
   "metadata": {
    "deletable": false,
    "editable": false,
    "nbgrader": {
     "checksum": "2d8055a42657c22057ad0afc4d699d96",
     "grade": true,
     "grade_id": "cell-6484687fce7ccd33",
     "locked": true,
     "points": 1,
     "schema_version": 1,
     "solution": false
    }
   },
   "outputs": [],
   "source": [
    "assert algo_q_d in ['human', 'computer']\n"
   ]
  },
  {
   "cell_type": "markdown",
   "metadata": {
    "deletable": false,
    "editable": false,
    "nbgrader": {
     "checksum": "5fe7ea93744786a191ab23a3fd1a98cc",
     "grade": false,
     "grade_id": "cell-ad7046936e9e00e4",
     "locked": true,
     "schema_version": 1,
     "solution": false
    }
   },
   "source": [
    "## Part 4:  Chatbots\n",
    "\n",
    "This part is an application of all the tools we have covered so far, to the problem of creating variations of traditional chatbots. \n",
    "\n",
    "A chatbot is a piece of software that tries to have a conversation with a human. While today's chatbots are powerful learners, traditional bots are arguably much simpler. \n",
    "\n",
    "Traditional chatbots follow a \"rule-based\" approach that is defined for them (by you, the programmer). These rules can be very simple to very complex. These types of chatbots can handle simple entries but tend to fail with more complex ones.\n",
    "\n",
    "To work on this application, we are going to need to use conditions, functions, and algorithims. \n",
    "\n",
    "\n",
    "#### Chatbot functions \n",
    "\n",
    "In order to make our chatbot, we will create a series of functions that our eventual chatbot will use together to try and chat with a user. At the end, we will test that these functions do indeed allow us to have simple conversations with our chatbot. "
   ]
  },
  {
   "cell_type": "markdown",
   "metadata": {
    "collapsed": true,
    "deletable": false,
    "editable": false,
    "nbgrader": {
     "checksum": "2d1bdb28d5dfd22988741b0c7baf67d1",
     "grade": false,
     "grade_id": "cell-5b615192a59468e3",
     "locked": true,
     "schema_version": 1,
     "solution": false
    }
   },
   "source": [
    "### Example Chatbot - Eliza\n",
    "\n",
    "The following demo is from the Natural Language ToolKit (nltk), a Python package available through Anaconda. \n",
    "\n",
    "Uncomment the line below, and run the code to be able to have a chat with Eliza. "
   ]
  },
  {
   "cell_type": "code",
   "execution_count": null,
   "metadata": {},
   "outputs": [],
   "source": [
    "# Run a demo of a chatbot, with Eliza\n",
    "#nltk.chat.eliza.demo()"
   ]
  },
  {
   "cell_type": "markdown",
   "metadata": {
    "deletable": false,
    "editable": false,
    "nbgrader": {
     "checksum": "79e031493bb574fa89935b3f73948ab8",
     "grade": false,
     "grade_id": "cell-fb303a097252988d",
     "locked": true,
     "schema_version": 1,
     "solution": false
    }
   },
   "source": [
    "### Example Chatbot - Iesha\n",
    "\n",
    "The following is another demo chatbot from nltk, this one called Iesha. \n",
    "\n",
    "As you check out the chatbot demos with Eliza and Iesha, see if you can notice any patterns that might help you figure out how they work (what kind of programming structures they use). "
   ]
  },
  {
   "cell_type": "code",
   "execution_count": null,
   "metadata": {},
   "outputs": [],
   "source": [
    "# Run a demo of a chatbot, with Iesha\n",
    "#nltk.chat.iesha.demo()"
   ]
  },
  {
   "cell_type": "markdown",
   "metadata": {
    "deletable": false,
    "editable": false,
    "nbgrader": {
     "checksum": "596eaa10f1b0aa4a53fae9c9897c6996",
     "grade": false,
     "grade_id": "cell-fc01d901d8794162",
     "locked": true,
     "schema_version": 1,
     "solution": false
    }
   },
   "source": [
    "### Q9 - Is It a Question (X points)\n",
    "\n",
    "The first thing we might want to know, given an input to a chatbot, is if the input is a question. \n",
    "\n",
    "We are going to use a very simple heuristic to check this: we will consider any input that has a question mark ('?') in it to be a question. \n",
    "\n",
    "Write a function called `is_question`, that takes as input a string called `input_string`. \n",
    "\n",
    "If there is a '?' in `input_string`, this function should return True, otherwise it should return False. "
   ]
  },
  {
   "cell_type": "code",
   "execution_count": null,
   "metadata": {
    "deletable": false,
    "nbgrader": {
     "checksum": "068acc1357b63454a26a717fc97ad35a",
     "grade": false,
     "grade_id": "cell-06800778424be5ba",
     "locked": false,
     "schema_version": 1,
     "solution": true
    }
   },
   "outputs": [],
   "source": [
    "# YOUR CODE HERE\n",
    "raise NotImplementedError()"
   ]
  },
  {
   "cell_type": "code",
   "execution_count": null,
   "metadata": {
    "deletable": false,
    "editable": false,
    "nbgrader": {
     "checksum": "ee4d054702ced585d732470b978a4f85",
     "grade": true,
     "grade_id": "cell-73224d2951e9985c",
     "locked": true,
     "points": 1,
     "schema_version": 1,
     "solution": false
    }
   },
   "outputs": [],
   "source": [
    "assert callable(is_question)\n",
    "assert isinstance(is_question('abc'), bool)\n",
    "assert is_question('what?') == True\n"
   ]
  },
  {
   "cell_type": "markdown",
   "metadata": {
    "deletable": false,
    "editable": false,
    "nbgrader": {
     "checksum": "af4afee67b685010bb2663ed12e9b2a0",
     "grade": false,
     "grade_id": "cell-649bbccda08b6552",
     "locked": true,
     "schema_version": 1,
     "solution": false
    }
   },
   "source": [
    "### Q10 - Removing punctuation (X points)\n",
    "\n",
    "Once we know if an input is a question, we are going to get rid of all punctuation. \n",
    "\n",
    "To do so, write a function called `remove_punctuation`, which takes an input called `input_string`. \n",
    "\n",
    "This function should:\n",
    "- define a new variable `out_string` as an empty string\n",
    "- loop through each character in `input_string`\n",
    "    - if this character is not in `string.punctuation`\n",
    "        - then append the current character to `out_string`\n",
    "- return `out_string`"
   ]
  },
  {
   "cell_type": "code",
   "execution_count": null,
   "metadata": {
    "deletable": false,
    "nbgrader": {
     "checksum": "b8ad9df8b923ef727ff96b9edd5cf0c4",
     "grade": false,
     "grade_id": "cell-e89fcaa0b5c38b5b",
     "locked": false,
     "schema_version": 1,
     "solution": true
    }
   },
   "outputs": [],
   "source": [
    "# YOUR CODE HERE\n",
    "raise NotImplementedError()"
   ]
  },
  {
   "cell_type": "code",
   "execution_count": null,
   "metadata": {
    "deletable": false,
    "editable": false,
    "nbgrader": {
     "checksum": "ad48056302a1c209645915c1b0c4b86c",
     "grade": true,
     "grade_id": "cell-7653654ef6ba58e1",
     "locked": true,
     "points": 1,
     "schema_version": 1,
     "solution": false
    }
   },
   "outputs": [],
   "source": [
    "assert callable(remove_punctuation)\n",
    "assert isinstance(remove_punctuation('a'), str)\n",
    "assert remove_punctuation(\"Hey! It's Tom!\") == \"Hey Its Tom\"\n"
   ]
  },
  {
   "cell_type": "markdown",
   "metadata": {
    "deletable": false,
    "editable": false,
    "nbgrader": {
     "checksum": "2ef6b3706f715c9eefe362c1e05c8756",
     "grade": false,
     "grade_id": "cell-eb983e643c4882d6",
     "locked": true,
     "schema_version": 1,
     "solution": false
    }
   },
   "source": [
    "### Q11 - Preparing Text (X points)\n",
    "\n",
    "Now we want a more general function to prepare out text data for processing. \n",
    "\n",
    "Write a function called `prepare_text`, that takes as input `input_string`. \n",
    "\n",
    "Inside this function, using string methods and our `remove_punctuation` function, this function should:\n",
    "- make the string all lower case\n",
    "- remove all punctuation from the string\n",
    "- split the string into words (look for a string method called `split`)"
   ]
  },
  {
   "cell_type": "code",
   "execution_count": null,
   "metadata": {
    "deletable": false,
    "nbgrader": {
     "checksum": "b4cff407bccce751d21cadc588335a02",
     "grade": false,
     "grade_id": "cell-c1c23cc422a6e514",
     "locked": false,
     "schema_version": 1,
     "solution": true
    }
   },
   "outputs": [],
   "source": [
    "# YOUR CODE HERE\n",
    "raise NotImplementedError()"
   ]
  },
  {
   "cell_type": "code",
   "execution_count": null,
   "metadata": {
    "deletable": false,
    "editable": false,
    "nbgrader": {
     "checksum": "d640b828cae90030474ddad063ce2b75",
     "grade": true,
     "grade_id": "cell-617b5f8e65de0792",
     "locked": true,
     "points": 1,
     "schema_version": 1,
     "solution": false
    }
   },
   "outputs": [],
   "source": [
    "assert callable(prepare_text)\n",
    "assert isinstance(prepare_text('One two three.'), list)\n",
    "assert prepare_text('Hi! Also, howdy.') == ['hi', 'also', 'howdy']\n",
    "\n"
   ]
  },
  {
   "cell_type": "markdown",
   "metadata": {
    "deletable": false,
    "editable": false,
    "nbgrader": {
     "checksum": "adc62ef8591e79d388172a1f6ee0d41f",
     "grade": false,
     "grade_id": "cell-ab7b89763863cab9",
     "locked": true,
     "schema_version": 1,
     "solution": false
    }
   },
   "source": [
    "### Q12 - Echo a Response (X points)\n",
    "\n",
    "Define a function, called `respond_echo`, that will return a string a specified number of times, with a given separator. \n",
    "\n",
    "Input\n",
    "* `input_string` - a string\n",
    "* `number_of_echoes` - an integer\n",
    "* `spacer` - a string\n",
    "\n",
    "Output\n",
    "* `echo_output` - string\n",
    "\n",
    "This function should return the `input_string`, repeated the number of times specified by `number_of_echoes`, joined by the  `spacer`. \n",
    "\n",
    "So, for example, `respond_echo('bark', 2, '-')` should return: 'bark-bark-'\n",
    "\n",
    "Note that a simple version of this version will end up appending the spacer to the end of the list as well. For our purposes here, implement that simple version."
   ]
  },
  {
   "cell_type": "code",
   "execution_count": null,
   "metadata": {
    "deletable": false,
    "nbgrader": {
     "checksum": "7a6f27fae4e1041565911dd5afddd496",
     "grade": false,
     "grade_id": "cell-d77bc7ed64441ebc",
     "locked": false,
     "schema_version": 1,
     "solution": true
    }
   },
   "outputs": [],
   "source": [
    "# YOUR CODE HERE\n",
    "raise NotImplementedError()"
   ]
  },
  {
   "cell_type": "code",
   "execution_count": null,
   "metadata": {
    "deletable": false,
    "editable": false,
    "nbgrader": {
     "checksum": "6fe9a4d1f28269ad47a1469356d40dd6",
     "grade": true,
     "grade_id": "cell-3280829d10a28901",
     "locked": true,
     "points": 1,
     "schema_version": 1,
     "solution": false
    }
   },
   "outputs": [],
   "source": [
    "assert callable(respond_echo)\n",
    "assert isinstance(respond_echo('ha', 2, ' '), str)\n",
    "assert respond_echo('meow', 3, '~') == 'meow~meow~meow~'\n"
   ]
  },
  {
   "cell_type": "markdown",
   "metadata": {
    "deletable": false,
    "editable": false,
    "nbgrader": {
     "checksum": "16efe707aa097a47f572574c748e737e",
     "grade": false,
     "grade_id": "cell-dc5e0416db994eb0",
     "locked": true,
     "schema_version": 1,
     "solution": false
    }
   },
   "source": [
    "### Q13 - Selector (X points)\n",
    "\n",
    "Next we will write a function that will help us select an output for the chatbot, based on the input it got. \n",
    "\n",
    "Define a function, called `selector`, with the following inputs and outputs. \n",
    "\n",
    "Input\n",
    "* `input_list` - a string\n",
    "* `check_list` - an integer\n",
    "* `return_list` - a string\n",
    "\n",
    "Output\n",
    "* `output` - can be a string, or None\n",
    "\n",
    "Inside this function:\n",
    "- Initialize `output` to `None`\n",
    "- Loop through each element in input_list\n",
    "- Use a conditional to check if this element is in `check_list`\n",
    "    - If it is, assign `output` as the returned value of calling the `random.choice` function on `return_list`\n",
    "    - Also, break out of the loop\n",
    "- At the end of the function, return `output`"
   ]
  },
  {
   "cell_type": "code",
   "execution_count": null,
   "metadata": {
    "deletable": false,
    "nbgrader": {
     "checksum": "ae0d9f67e2dabf030b6fc1bd1cfd6e76",
     "grade": false,
     "grade_id": "cell-a85973a26e490194",
     "locked": false,
     "schema_version": 1,
     "solution": true
    }
   },
   "outputs": [],
   "source": [
    "# YOUR CODE HERE\n",
    "raise NotImplementedError()"
   ]
  },
  {
   "cell_type": "code",
   "execution_count": null,
   "metadata": {
    "deletable": false,
    "editable": false,
    "nbgrader": {
     "checksum": "975cd74add86ba94a2c939300d5017d4",
     "grade": true,
     "grade_id": "cell-88e6e54e20d32647",
     "locked": true,
     "points": 1,
     "schema_version": 1,
     "solution": false
    }
   },
   "outputs": [],
   "source": [
    "assert callable(selector)\n",
    "\n",
    "assert selector(['in', 'words'], ['words'], ['yes']) == 'yes'\n",
    "assert selector(['in', 'words'], ['out'], ['yes']) == None\n"
   ]
  },
  {
   "cell_type": "markdown",
   "metadata": {
    "deletable": false,
    "editable": false,
    "nbgrader": {
     "checksum": "5fa6779c9e2fa3eb0b2ac3be588de4ea",
     "grade": false,
     "grade_id": "cell-251b63522836d89e",
     "locked": true,
     "schema_version": 1,
     "solution": false
    }
   },
   "source": [
    "### Q14 - List to String (X Points)\n",
    "\n",
    "Since we are often dealing with a list of strings, it would be useful to have a function to turn a list of string back into one single concatenated string. \n",
    "\n",
    "Write a function called `list_to_string` that takes two agruments: a list called `input_list` and a string called `seperator`. \n",
    "\n",
    "This function will return a string that is each element of `input_list` concatenated together with each sperated by the string `seperator`. \n",
    "\n",
    "For example, the following function call:\n",
    "`list_to_string(['This', 'is', 'fun'], ' ')`\n",
    "\n",
    "shoud return: 'This is fun.'"
   ]
  },
  {
   "cell_type": "code",
   "execution_count": null,
   "metadata": {
    "deletable": false,
    "nbgrader": {
     "checksum": "87e21921175966d4800b140caa9e6a71",
     "grade": false,
     "grade_id": "cell-cfabdfe3966db8c6",
     "locked": false,
     "schema_version": 1,
     "solution": true
    }
   },
   "outputs": [],
   "source": [
    "# YOUR CODE HERE\n",
    "raise NotImplementedError()"
   ]
  },
  {
   "cell_type": "code",
   "execution_count": null,
   "metadata": {
    "deletable": false,
    "editable": false,
    "nbgrader": {
     "checksum": "0673d596fe60b6dd0247f02fbc1f6bb7",
     "grade": true,
     "grade_id": "cell-b8d8c7506f53317e",
     "locked": true,
     "points": 1,
     "schema_version": 1,
     "solution": false
    }
   },
   "outputs": [],
   "source": [
    "assert callable(list_to_string)\n",
    "assert isinstance(list_to_string(['a', 'b'], '|'), str)\n",
    "assert list_to_string(['a', 'b'], '|') == 'a|b|'\n"
   ]
  },
  {
   "cell_type": "markdown",
   "metadata": {
    "deletable": false,
    "editable": false,
    "nbgrader": {
     "checksum": "6989aea80a7f25c4a44dccab3a95a8d1",
     "grade": false,
     "grade_id": "cell-13ec15234cf0e6ae",
     "locked": true,
     "schema_version": 1,
     "solution": false
    }
   },
   "source": [
    "### Q15 - Multi String Concatenator (X points)\n",
    "\n",
    "Define a function, `multi_concat`, that takes three string inputs, `str_1`, `str_2` and `str_3. \n",
    "\n",
    "This function should return the three string concatenated together, with spaces beteween them. "
   ]
  },
  {
   "cell_type": "code",
   "execution_count": null,
   "metadata": {
    "deletable": false,
    "nbgrader": {
     "checksum": "b14e0cc8844f6415fd501d98c7d4dfd1",
     "grade": false,
     "grade_id": "cell-9c45fdf1f810cb7e",
     "locked": false,
     "schema_version": 1,
     "solution": true
    }
   },
   "outputs": [],
   "source": [
    "# YOUR CODE HERE\n",
    "raise NotImplementedError()"
   ]
  },
  {
   "cell_type": "code",
   "execution_count": null,
   "metadata": {
    "deletable": false,
    "editable": false,
    "nbgrader": {
     "checksum": "5d73ccf931d85d1f8ce1704600c27a6b",
     "grade": true,
     "grade_id": "cell-081f2946d90cf799",
     "locked": true,
     "points": 1,
     "schema_version": 1,
     "solution": false
    }
   },
   "outputs": [],
   "source": [
    "assert callable(multi_concat)\n",
    "assert isinstance(multi_concat('a', 'b', 'c'), str)\n",
    "assert multi_concat('a', 'b', 'c') == 'a b c'\n"
   ]
  },
  {
   "cell_type": "markdown",
   "metadata": {
    "deletable": false,
    "editable": false,
    "nbgrader": {
     "checksum": "b9731aa27d21a00da99bc7f3b57b0126",
     "grade": false,
     "grade_id": "cell-c1813cc24e5aa3fa",
     "locked": true,
     "schema_version": 1,
     "solution": false
    }
   },
   "source": [
    "### Q16 - End Chat (X points)\n",
    "\n",
    "The last thing we need is a way to end the chat with our chatbot. \n",
    "\n",
    "We will use the same convention that `nltk` uses - namely, that we will end the conversation if the word `quit` appears.\n",
    "\n",
    "To be able to do so, write a function called `end_chat`, that will take as input a variable called `input_list`, and return `output`, which will be a boolean. \n",
    "\n",
    "`end_chat` should return True if the string 'quit' is in the list of strings, `input_list`, and return False otherwise. "
   ]
  },
  {
   "cell_type": "code",
   "execution_count": null,
   "metadata": {
    "deletable": false,
    "nbgrader": {
     "checksum": "663e2fb0d0460b0b61970b534b512e30",
     "grade": false,
     "grade_id": "cell-1ab514a0dcaee24e",
     "locked": false,
     "schema_version": 1,
     "solution": true
    }
   },
   "outputs": [],
   "source": [
    "# YOUR CODE HERE\n",
    "raise NotImplementedError()"
   ]
  },
  {
   "cell_type": "code",
   "execution_count": null,
   "metadata": {
    "deletable": false,
    "editable": false,
    "nbgrader": {
     "checksum": "03b5cf90160610386af2e5730caa527a",
     "grade": true,
     "grade_id": "cell-7937207e3e365a07",
     "locked": true,
     "points": 1,
     "schema_version": 1,
     "solution": false
    }
   },
   "outputs": [],
   "source": [
    "assert callable(end_chat)\n",
    "assert isinstance(end_chat(['a', 'b']), bool)\n",
    "assert end_chat(['quit']) == True\n"
   ]
  },
  {
   "cell_type": "code",
   "execution_count": null,
   "metadata": {
    "deletable": false,
    "editable": false,
    "nbgrader": {
     "checksum": "07aa9ab7a040102439805be52e73f554",
     "grade": false,
     "grade_id": "cell-9a477c9657272b28",
     "locked": true,
     "schema_version": 1,
     "solution": false
    }
   },
   "outputs": [],
   "source": [
    "# This cell defines a collection of input and output things our chatbot can say and respond to\n",
    "\n",
    "GREETINGS_IN = ['hello', 'hi', 'hey', 'hola', 'welcome', 'bonjour', 'greetings']\n",
    "GREETINGS_OUT = [\"Hello, it's nice to talk to you!\", 'Nice to meet you!',  \"Hey - Let's chat!\"]\n",
    "\n",
    "COMP_IN = ['python', 'code', 'turing', 'computer']\n",
    "COMP_OUT = [\"Python is my mother.\", \\\n",
    "            \"Did you know I'm made of code!?\", \\\n",
    "            \"Computers are so magical\", \\\n",
    "            \"Do you think I'll pass the Turing test?\"]\n",
    "\n",
    "JOKES_IN = ['funny', 'hilarious', 'ha', 'haha', 'hahaha', 'lol']\n",
    "JOKES_OUT = ['ha', 'haha', 'lol'] \n",
    "\n",
    "NONO = ['matlab', 'java', 'C++']\n",
    "NONO_EXT = \"I'm sorry, I cannot talk about \"\n",
    "\n",
    "QUESTION = \"I'm too shy to answer questions. What do you want to talk about?\"\n",
    "UNKNOWN = ['Good.', 'Okay', 'Huh?', 'Yeah!', 'Thanks!']"
   ]
  },
  {
   "cell_type": "markdown",
   "metadata": {
    "deletable": false,
    "editable": false,
    "nbgrader": {
     "checksum": "b03dddf446e7be9e2573be62fe333a3f",
     "grade": false,
     "grade_id": "cell-3572984f66ce201f",
     "locked": true,
     "schema_version": 1,
     "solution": false
    }
   },
   "source": [
    "## Talking to our Chatbot\n",
    "\n",
    "If everything has gone well with writing all the pieces of our chatbot above, the cell below should let us chat to our bot!\n",
    "\n",
    "You don't have to write anything in the code block below. \n",
    "\n",
    "Do read through it though, to see how our chatbot works, and to see how all the functions you just wrote are used to create the chatbot."
   ]
  },
  {
   "cell_type": "code",
   "execution_count": null,
   "metadata": {
    "deletable": false,
    "editable": false,
    "nbgrader": {
     "checksum": "d826cf5217d2223ffb94e45ee1c7e1f7",
     "grade": false,
     "grade_id": "cell-2d8c07fcb39f16a3",
     "locked": true,
     "schema_version": 1,
     "solution": false
    }
   },
   "outputs": [],
   "source": [
    "# Run this cell\n",
    "\n",
    "chat = True\n",
    "while chat:\n",
    "    \n",
    "    # Get a message from the user\n",
    "    msg = input('INPUT :\\t')\n",
    "    out_msg = None\n",
    "    \n",
    "    # Check if the input is a question\n",
    "    question = is_question(msg)\n",
    "    \n",
    "    # Prepare the input message\n",
    "    msg = prepare_text(msg)\n",
    "    \n",
    "    # Check for an end msg \n",
    "    if end_chat(msg):\n",
    "        out_msg = 'Bye!'\n",
    "        chat = False\n",
    "    \n",
    "    # Check for a selection of topics that we have defined to respond to\n",
    "    if not out_msg:\n",
    "        out_1 = selector(msg, GREETINGS_IN, GREETINGS_OUT)\n",
    "        out_2 = selector(msg, COMP_IN, COMP_OUT)\n",
    "        out_3 = respond_echo(selector(msg, JOKES_IN, JOKES_OUT), 3, '')\n",
    "\n",
    "        options = list(filter(None, [out_1, out_2, out_3]))\n",
    "        if options:\n",
    "            out_msg = random.choice(options)\n",
    "    \n",
    "    # If we don't have an output yet, but the input was a question, return msg related to it being a question\n",
    "    if not out_msg and question:\n",
    "        out_msg = QUESTION\n",
    "\n",
    "    # Catch-all to say something if msg not caught & processed so far\n",
    "    if not out_msg:\n",
    "        out_msg = random.choice(UNKNOWN)\n",
    "\n",
    "    print('OUTPUT:', out_msg)"
   ]
  },
  {
   "cell_type": "markdown",
   "metadata": {
    "deletable": false,
    "editable": false,
    "nbgrader": {
     "checksum": "a566847487ce74c347492a33b0faadd2",
     "grade": false,
     "grade_id": "cell-40ef8e3f877362e7",
     "locked": true,
     "schema_version": 1,
     "solution": false
    }
   },
   "source": [
    "After you've explored chatting to the chatbot, you are done!"
   ]
  },
  {
   "cell_type": "markdown",
   "metadata": {
    "deletable": false,
    "editable": false,
    "nbgrader": {
     "checksum": "afd8c1b0444dac3e2473b93bb50cbdad",
     "grade": false,
     "grade_id": "cell-40d37bfa22765f04",
     "locked": true,
     "schema_version": 1,
     "solution": false
    }
   },
   "source": [
    "## The End!\n",
    "\n",
    "This is the end of the assignment!\n",
    "Have a look back over your answers, and also make sure to Restart & Run All from the kernel menu to double check that everything is working properly. \n",
    "\n",
    "When you are ready to submit your assignment, upload it to TritonED under Assignment-3."
   ]
  }
 ],
 "metadata": {
  "kernelspec": {
   "display_name": "Python 3",
   "language": "python",
   "name": "python3"
  },
  "language_info": {
   "codemirror_mode": {
    "name": "ipython",
    "version": 3
   },
   "file_extension": ".py",
   "mimetype": "text/x-python",
   "name": "python",
   "nbconvert_exporter": "python",
   "pygments_lexer": "ipython3",
   "version": "3.6.3"
  }
 },
 "nbformat": 4,
 "nbformat_minor": 2
}
