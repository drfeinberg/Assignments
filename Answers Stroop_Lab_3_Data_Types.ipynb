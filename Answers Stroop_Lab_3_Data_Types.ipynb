{
  "nbformat": 4,
  "nbformat_minor": 0,
  "metadata": {
    "colab": {
      "name": "Stroop Lab 3 - Data Types.ipynb",
      "provenance": [],
      "collapsed_sections": [],
      "authorship_tag": "ABX9TyMbrwB9JOor1nJsqY0mm/h6",
      "include_colab_link": true
    },
    "kernelspec": {
      "name": "python3",
      "display_name": "Python 3"
    }
  },
  "cells": [
    {
      "cell_type": "markdown",
      "metadata": {
        "id": "view-in-github",
        "colab_type": "text"
      },
      "source": [
        "<a href=\"https://colab.research.google.com/github/drfeinberg/Assignments/blob/master/Answers%20Stroop_Lab_3_Data_Types.ipynb\" target=\"_parent\"><img src=\"https://colab.research.google.com/assets/colab-badge.svg\" alt=\"Open In Colab\"/></a>"
      ]
    },
    {
      "cell_type": "markdown",
      "metadata": {
        "id": "x7Iw7Y81U2LR",
        "colab_type": "text"
      },
      "source": [
        "# Stroop Lab 3 - Data Types"
      ]
    },
    {
      "cell_type": "markdown",
      "metadata": {
        "id": "NsP3Yp-EcyDE",
        "colab_type": "text"
      },
      "source": [
        "# Coloured text\n",
        "For our stroop task we need coloured text. Let's set that up."
      ]
    },
    {
      "cell_type": "code",
      "metadata": {
        "id": "lMjxil7HnY1f",
        "colab_type": "code",
        "colab": {}
      },
      "source": [
        "stroop_colours = [\n",
        "                  'blue',\n",
        "                  'green',\n",
        "                  'yellow',\n",
        "                  'red'\n",
        "                ]"
      ],
      "execution_count": 0,
      "outputs": []
    },
    {
      "cell_type": "markdown",
      "metadata": {
        "id": "KeAD2rFaa8I8",
        "colab_type": "text"
      },
      "source": [
        "Recall our colour codes from earlier?"
      ]
    },
    {
      "cell_type": "code",
      "metadata": {
        "id": "67IMPfe5a4NT",
        "colab_type": "code",
        "colab": {}
      },
      "source": [
        "blue = '\\033[94m'\n",
        "green = '\\033[92m'\n",
        "yellow = '\\033[93m'\n",
        "red = '\\033[91m'"
      ],
      "execution_count": 0,
      "outputs": []
    },
    {
      "cell_type": "markdown",
      "metadata": {
        "id": "m5quvsbqbAgX",
        "colab_type": "text"
      },
      "source": [
        "Make the colour codes into a dictionary called `colours`"
      ]
    },
    {
      "cell_type": "code",
      "metadata": {
        "colab_type": "code",
        "id": "-UlQuR6xb82I",
        "colab": {}
      },
      "source": [
        "# YOUR CODE HERE\n"
      ],
      "execution_count": 0,
      "outputs": []
    },
    {
      "cell_type": "markdown",
      "metadata": {
        "id": "8gOx81S_bVaN",
        "colab_type": "text"
      },
      "source": [
        "Print `blue` in blue coloured text using values stored in the `colours` dictionary"
      ]
    },
    {
      "cell_type": "code",
      "metadata": {
        "colab_type": "code",
        "id": "JO74v0Dbb9fD",
        "colab": {}
      },
      "source": [
        "# YOUR CODE HERE\n"
      ],
      "execution_count": 0,
      "outputs": []
    },
    {
      "cell_type": "markdown",
      "metadata": {
        "id": "02nRTo5_bwKo",
        "colab_type": "text"
      },
      "source": [
        "Print `green` in yellow text using values stored in the colours dictionary"
      ]
    },
    {
      "cell_type": "code",
      "metadata": {
        "id": "U-ZWdX4hbi9a",
        "colab_type": "code",
        "colab": {}
      },
      "source": [
        "# YOUR CODE HERE\n"
      ],
      "execution_count": 0,
      "outputs": []
    },
    {
      "cell_type": "markdown",
      "metadata": {
        "id": "TBGMcCM8cFf-",
        "colab_type": "text"
      },
      "source": [
        "Print the third element in `stroop_colours` using the `red` font colour stored in `colours`\n"
      ]
    },
    {
      "cell_type": "code",
      "metadata": {
        "id": "jyZr7CqwcfHS",
        "colab_type": "code",
        "colab": {}
      },
      "source": [
        "# YOUR CODE HERE\n"
      ],
      "execution_count": 0,
      "outputs": []
    },
    {
      "cell_type": "markdown",
      "metadata": {
        "id": "NSbYiQRipDiv",
        "colab_type": "text"
      },
      "source": [
        "Print each of the colours in all uppercase"
      ]
    },
    {
      "cell_type": "code",
      "metadata": {
        "colab_type": "code",
        "id": "U3EzNPAcpIGI",
        "colab": {}
      },
      "source": [
        "# YOUR CODE HERE\n"
      ],
      "execution_count": 0,
      "outputs": []
    },
    {
      "cell_type": "markdown",
      "metadata": {
        "id": "epaZ0b3jpJKd",
        "colab_type": "text"
      },
      "source": [
        "Print each of the colours backwards\n"
      ]
    },
    {
      "cell_type": "code",
      "metadata": {
        "colab_type": "code",
        "id": "8sw5KjCcpM73",
        "colab": {}
      },
      "source": [
        "# YOUR CODE HERE\n"
      ],
      "execution_count": 0,
      "outputs": []
    },
    {
      "cell_type": "markdown",
      "metadata": {
        "id": "nbA8fr21csZX",
        "colab_type": "text"
      },
      "source": [
        "# ID numbers\n",
        "Let's revisit our bit on ID numbers and use a dictionary of dictionaries to store them."
      ]
    },
    {
      "cell_type": "markdown",
      "metadata": {
        "id": "_ApZ8EAbc-x1",
        "colab_type": "text"
      },
      "source": [
        "Create a dictionary called `subject_data`"
      ]
    },
    {
      "cell_type": "code",
      "metadata": {
        "id": "rg4cgpFGc2NC",
        "colab_type": "code",
        "colab": {}
      },
      "source": [
        "# YOUR CODE HERE\n",
        "subject_data = {}\n",
        "# or\n",
        "subject_data = dict()"
      ],
      "execution_count": 0,
      "outputs": []
    },
    {
      "cell_type": "markdown",
      "metadata": {
        "id": "vRY2geoad6je",
        "colab_type": "text"
      },
      "source": [
        "As the first entry in the dictionary, put `3301`, our participant id from Lab 1, as the key, and make a dictionary as the first value.\n",
        "\n",
        "In that dictionary, we'll have 4 entries.\n",
        "- `is_new_subject` should be the Boolean `True`\n",
        "- age should be the float `20.6`\n",
        "- country should be the string `Canada`\n",
        "- favourit_colour should be None"
      ]
    },
    {
      "cell_type": "code",
      "metadata": {
        "id": "V8CStkX2dV-K",
        "colab_type": "code",
        "colab": {}
      },
      "source": [
        "# YOUR CODE HERE\n",
        "subject_data = {3301:{\"is_new_subject\": True,\n",
        "                   \"age\":20.6,\n",
        "                   \"country\": \"Canada\",\n",
        "                   \"favourite_colour\": None,\n",
        "                  }\n",
        "            }"
      ],
      "execution_count": 0,
      "outputs": []
    },
    {
      "cell_type": "markdown",
      "metadata": {
        "id": "Ol7qoSJiethH",
        "colab_type": "text"
      },
      "source": [
        "Starting to look like a database...\n",
        "\n",
        "Let's add another entry\n",
        "\n",
        "As the second entry in the dictionary, put 3302, our participant id, and make a dictionary as the first value.\n",
        "\n",
        "In that dictionary, we'll have 4 entries.\n",
        "\n",
        "is_new_subject should be the Boolean False\n",
        "age should be the float 22.2\n",
        "country should be the string USA\n",
        "favourit_colour should be None"
      ]
    },
    {
      "cell_type": "code",
      "metadata": {
        "colab_type": "code",
        "id": "6CZgdFG1g44k",
        "outputId": "71a48877-8870-430e-d207-d8fb6a4557a6",
        "colab": {
          "base_uri": "https://localhost:8080/",
          "height": 153
        }
      },
      "source": [
        "# YOUR CODE HERE\n",
        "subject_data[3302] = {\"is_new_subject\": True,\n",
        "                   \"age\":22.3,\n",
        "                   \"country\": \"USA\",\n",
        "                   \"favourite_colour\": None,\n",
        "                  }\n",
        "subject_data           "
      ],
      "execution_count": 0,
      "outputs": [
        {
          "output_type": "execute_result",
          "data": {
            "text/plain": [
              "{3301: {'age': 20.6,\n",
              "  'country': 'Canada',\n",
              "  'favourite_colour': None,\n",
              "  'is_new_subject': True},\n",
              " 3302: {'age': 22.3,\n",
              "  'country': 'USA',\n",
              "  'favourite_colour': None,\n",
              "  'is_new_subject': True}}"
            ]
          },
          "metadata": {
            "tags": []
          },
          "execution_count": 10
        }
      ]
    },
    {
      "cell_type": "markdown",
      "metadata": {
        "id": "MZeK1-GDgWO8",
        "colab_type": "text"
      },
      "source": [
        "Make your own 3rd entry for `3303`"
      ]
    },
    {
      "cell_type": "code",
      "metadata": {
        "id": "fLJymK5mfmgV",
        "colab_type": "code",
        "outputId": "de0eea9d-10c7-4f31-dc9d-db3d721c2484",
        "colab": {
          "base_uri": "https://localhost:8080/",
          "height": 221
        }
      },
      "source": [
        "# YOUR CODE HERE\n",
        "subject_data[3303] = {\"is_new_subject\": False,\n",
        "                   \"age\":24.6,\n",
        "                   \"country\": \"Estonia\",\n",
        "                   \"favourite_colour\": \"Blue\",\n",
        "                  }\n",
        "subject_data           "
      ],
      "execution_count": 0,
      "outputs": [
        {
          "output_type": "execute_result",
          "data": {
            "text/plain": [
              "{3301: {'age': 20.6,\n",
              "  'country': 'Canada',\n",
              "  'favourite_colour': None,\n",
              "  'is_new_subject': True},\n",
              " 3302: {'age': 22.3,\n",
              "  'country': 'USA',\n",
              "  'favourite_colour': None,\n",
              "  'is_new_subject': True},\n",
              " 3303: {'age': 24.6,\n",
              "  'country': 'Estonia',\n",
              "  'favourite_colour': 'Blue',\n",
              "  'is_new_subject': False}}"
            ]
          },
          "metadata": {
            "tags": []
          },
          "execution_count": 13
        }
      ]
    },
    {
      "cell_type": "markdown",
      "metadata": {
        "id": "MMbgVAeGhfK_",
        "colab_type": "text"
      },
      "source": [
        "# Data"
      ]
    },
    {
      "cell_type": "markdown",
      "metadata": {
        "id": "prSrUn4jicMC",
        "colab_type": "text"
      },
      "source": [
        "## Simulate responses\n",
        "\n",
        "\n",
        "---\n",
        "\n",
        "\n",
        "\n",
        "In the Stroop task we ask someone to read the word on the screen. We measure whether that's correct or incorrect, and test how that's affected by changing the colour of the font to be congruent or incongruent with the text on the screen.\n",
        "\n",
        "\n",
        "---\n",
        "\n",
        "\n",
        "Even though you wouldn't always have these ratios in a real experiment, we'll use 50/50 because it's a lot easier to deal with. 50% of trials are congruent (ie the colour name matched the font colour), and 50 % of the trials are incongruent (ie the colour name and font colour do not match).\n",
        "\n",
        "\n",
        "---\n",
        "\n",
        "\n",
        "We are going to use NumPy to simulate these data..\n",
        "- Numpy stands for \"number Python\" and deals well with the complex math we use in science\n",
        "\n",
        "\n",
        "---\n",
        "\n",
        "\n",
        "\n",
        "Here's what the formula does\n",
        "- Takes a random choice from the list `[\"incorrect\", \"correct\"]`\n",
        "- Sample size (number of trials in each condition) of 50, meaning we take a random choice 50 times\n",
        "- We give it a probability `p` which is specified using Python's fraction notation.  Note that the correct and incorrect probabilities are out of 1, but could have been specified differently\n",
        "- We'll have more corrects than incorrects in the congruent condition, so we swap the fractions in congrent and incongruent in order to simulate that\n",
        "    - I'm just picking numbers here, there's nothing concrete about these fractions\n",
        "    - I picked 1/4 and 3/4 because they are easy"
      ]
    },
    {
      "cell_type": "code",
      "metadata": {
        "id": "1Zj2F6fQicyp",
        "colab_type": "code",
        "colab": {}
      },
      "source": [
        "import numpy as np\n",
        "congruent_responses = tuple(np.random.choice([\"incorrect\", \"correct\"], size=(50,), p=[1./4, 3./4]))\n",
        "incongruent_responses = tuple(np.random.choice([\"incorrect\", \"correct\"], size=(50,), p=[3./4, 1./4]))"
      ],
      "execution_count": 0,
      "outputs": []
    },
    {
      "cell_type": "code",
      "metadata": {
        "id": "yZl1ieszieCB",
        "colab_type": "code",
        "outputId": "11d5964d-b742-41b3-c62c-c281c19ec3a1",
        "colab": {
          "base_uri": "https://localhost:8080/",
          "height": 867
        }
      },
      "source": [
        "congruent_responses"
      ],
      "execution_count": 0,
      "outputs": [
        {
          "output_type": "execute_result",
          "data": {
            "text/plain": [
              "('correct',\n",
              " 'correct',\n",
              " 'correct',\n",
              " 'incorrect',\n",
              " 'correct',\n",
              " 'correct',\n",
              " 'correct',\n",
              " 'correct',\n",
              " 'correct',\n",
              " 'correct',\n",
              " 'correct',\n",
              " 'incorrect',\n",
              " 'correct',\n",
              " 'correct',\n",
              " 'incorrect',\n",
              " 'correct',\n",
              " 'correct',\n",
              " 'incorrect',\n",
              " 'correct',\n",
              " 'correct',\n",
              " 'incorrect',\n",
              " 'incorrect',\n",
              " 'correct',\n",
              " 'correct',\n",
              " 'correct',\n",
              " 'correct',\n",
              " 'correct',\n",
              " 'correct',\n",
              " 'correct',\n",
              " 'correct',\n",
              " 'incorrect',\n",
              " 'correct',\n",
              " 'correct',\n",
              " 'correct',\n",
              " 'correct',\n",
              " 'correct',\n",
              " 'correct',\n",
              " 'incorrect',\n",
              " 'incorrect',\n",
              " 'incorrect',\n",
              " 'correct',\n",
              " 'correct',\n",
              " 'correct',\n",
              " 'correct',\n",
              " 'correct',\n",
              " 'correct',\n",
              " 'incorrect',\n",
              " 'correct',\n",
              " 'correct',\n",
              " 'incorrect')"
            ]
          },
          "metadata": {
            "tags": []
          },
          "execution_count": 30
        }
      ]
    },
    {
      "cell_type": "code",
      "metadata": {
        "id": "7RUJhNj-izGl",
        "colab_type": "code",
        "outputId": "15b1d018-73eb-454f-94ff-415dff34e5d3",
        "colab": {
          "base_uri": "https://localhost:8080/",
          "height": 867
        }
      },
      "source": [
        "incongruent_responses"
      ],
      "execution_count": 0,
      "outputs": [
        {
          "output_type": "execute_result",
          "data": {
            "text/plain": [
              "('incorrect',\n",
              " 'incorrect',\n",
              " 'correct',\n",
              " 'incorrect',\n",
              " 'incorrect',\n",
              " 'incorrect',\n",
              " 'incorrect',\n",
              " 'incorrect',\n",
              " 'correct',\n",
              " 'incorrect',\n",
              " 'incorrect',\n",
              " 'incorrect',\n",
              " 'incorrect',\n",
              " 'incorrect',\n",
              " 'incorrect',\n",
              " 'incorrect',\n",
              " 'incorrect',\n",
              " 'incorrect',\n",
              " 'incorrect',\n",
              " 'correct',\n",
              " 'correct',\n",
              " 'incorrect',\n",
              " 'incorrect',\n",
              " 'incorrect',\n",
              " 'incorrect',\n",
              " 'incorrect',\n",
              " 'correct',\n",
              " 'incorrect',\n",
              " 'correct',\n",
              " 'incorrect',\n",
              " 'incorrect',\n",
              " 'correct',\n",
              " 'incorrect',\n",
              " 'correct',\n",
              " 'correct',\n",
              " 'incorrect',\n",
              " 'incorrect',\n",
              " 'incorrect',\n",
              " 'correct',\n",
              " 'incorrect',\n",
              " 'incorrect',\n",
              " 'incorrect',\n",
              " 'correct',\n",
              " 'incorrect',\n",
              " 'incorrect',\n",
              " 'incorrect',\n",
              " 'incorrect',\n",
              " 'incorrect',\n",
              " 'incorrect',\n",
              " 'incorrect')"
            ]
          },
          "metadata": {
            "tags": []
          },
          "execution_count": 31
        }
      ]
    },
    {
      "cell_type": "markdown",
      "metadata": {
        "id": "95f2ild0i60K",
        "colab_type": "text"
      },
      "source": [
        "Now we have 2 tuples of 50 trials from 2 conditions, `congruent` and `incongruent`. These corresond to when the colour name is the same as the font colour, and when it is not, respectively."
      ]
    },
    {
      "cell_type": "markdown",
      "metadata": {
        "id": "0OqSY_Y0knQ1",
        "colab_type": "text"
      },
      "source": [
        "## Reaction Time Data\n",
        "Let's do this all over again with reaction time data."
      ]
    },
    {
      "cell_type": "markdown",
      "metadata": {
        "id": "6pND0uIBkwY0",
        "colab_type": "text"
      },
      "source": [
        "## Simulate reaction time data\n",
        "\n",
        "**Deep Dive**\n",
        "The `random.triangular` function generates normally distributed random numbers in a range betwen `a` and `b` with a mode of `x`. It looks like a triangle."
      ]
    },
    {
      "cell_type": "code",
      "metadata": {
        "id": "b4gxGrCWR9fK",
        "colab_type": "code",
        "outputId": "6b6268e7-0a52-45aa-84fd-01b2d580ec86",
        "colab": {
          "base_uri": "https://localhost:8080/",
          "height": 265
        }
      },
      "source": [
        "import matplotlib.pyplot as plt\n",
        "import numpy as np\n",
        "\n",
        "a = 0.5\n",
        "b = 6\n",
        "x = 3.5\n",
        "\n",
        "h = plt.hist(np.random.triangular(a, x, b, 100000), bins=200,\n",
        "             density=True)\n",
        "plt.show()"
      ],
      "execution_count": 0,
      "outputs": [
        {
          "output_type": "display_data",
          "data": {
            "image/png": "[encoded data removed]",
            "text/plain": [
              "<Figure size 432x288 with 1 Axes>"
            ]
          },
          "metadata": {
            "tags": [],
            "needs_background": "light"
          }
        }
      ]
    },
    {
      "cell_type": "code",
      "metadata": {
        "id": "luNkNzJSkxu6",
        "colab_type": "code",
        "colab": {}
      },
      "source": [
        "import random\n",
        "def simulate_reaction_time():\n",
        "  a = 0.5 # lowest possible reaction time\n",
        "  b = 6 # highest possible reaction time\n",
        "  x = 4 # mode of reaction time\n",
        "  reaction_time_incongruent = [random.triangular(a, b, 3*x-a-b) for i in range(50)]\n",
        "  x = 3 # mode of reaction time\n",
        "  reaction_time_congruent = [random.triangular(a, b, 3*x-a-b) for i in range(50)]\n",
        "  return reaction_time_incongruent, reaction_time_congruent  \n",
        "\n",
        "reaction_time_incongruent, reaction_time_congruent = simulate_reaction_time()"
      ],
      "execution_count": 0,
      "outputs": []
    },
    {
      "cell_type": "markdown",
      "metadata": {
        "id": "t4SCObjMjbFq",
        "colab_type": "text"
      },
      "source": [
        "## Store the Data"
      ]
    },
    {
      "cell_type": "markdown",
      "metadata": {
        "id": "COsHTlV6kLXq",
        "colab_type": "text"
      },
      "source": [
        "There's a cool function called `zip` that can take two lists or tuples, and make a new, joined list, that has pairs of tuples, like a taking separate lists of x and y coordinates and making a list of `(x,y)` pairs."
      ]
    },
    {
      "cell_type": "code",
      "metadata": {
        "id": "rYJguj6xk_gU",
        "colab_type": "code",
        "outputId": "f7f5bc73-60b1-44ee-e9d2-3758b9ab855d",
        "colab": {
          "base_uri": "https://localhost:8080/",
          "height": 34
        }
      },
      "source": [
        "zip(congruent_responses, incongruent_responses, reaction_time_incongruent, reaction_time_congruent)"
      ],
      "execution_count": 0,
      "outputs": [
        {
          "output_type": "execute_result",
          "data": {
            "text/plain": [
              "<zip at 0x7ff182612648>"
            ]
          },
          "metadata": {
            "tags": []
          },
          "execution_count": 20
        }
      ]
    },
    {
      "cell_type": "markdown",
      "metadata": {
        "id": "gYNhVCyylDbe",
        "colab_type": "text"
      },
      "source": [
        "The thing is, it just creates the object.  We need to print it or store it or something, otherwise, it's just junk.\n",
        "\n",
        "What we'll do is make a list out of the collection of tuples created by the `zip` function."
      ]
    },
    {
      "cell_type": "code",
      "metadata": {
        "id": "BSEtYU1Gk5Fj",
        "colab_type": "code",
        "outputId": "d56be009-0bda-492d-b870-7a5344c15880",
        "colab": {
          "base_uri": "https://localhost:8080/",
          "height": 867
        }
      },
      "source": [
        "data_tuples = list(zip(congruent_responses, incongruent_responses, reaction_time_incongruent, reaction_time_congruent))\n",
        "data_tuples"
      ],
      "execution_count": 0,
      "outputs": [
        {
          "output_type": "execute_result",
          "data": {
            "text/plain": [
              "[('correct', 'incorrect', 3.83451642892888, 1.0097311961436481),\n",
              " ('correct', 'incorrect', 5.6597195021517805, 1.5173416970315892),\n",
              " ('incorrect', 'correct', 4.888339519784049, 1.085935420807318),\n",
              " ('incorrect', 'incorrect', 2.714694750763178, 5.030415870012016),\n",
              " ('incorrect', 'incorrect', 5.1385530305865235, 2.600681339222405),\n",
              " ('incorrect', 'incorrect', 5.575051125898591, 0.8463105767080175),\n",
              " ('correct', 'incorrect', 5.2679099439138835, 2.5455428298062928),\n",
              " ('incorrect', 'incorrect', 5.288783976095609, 3.189277534472083),\n",
              " ('correct', 'correct', 5.0886725506409185, 4.169489226265572),\n",
              " ('correct', 'incorrect', 4.1982802360361, 4.839780066742259),\n",
              " ('correct', 'incorrect', 0.8841590987224919, 3.2389378556730777),\n",
              " ('correct', 'incorrect', 5.661464699489523, 3.1301977906120553),\n",
              " ('correct', 'incorrect', 4.085813945493213, 2.0049220834342236),\n",
              " ('correct', 'incorrect', 4.8340740518414655, 3.4742163318715304),\n",
              " ('incorrect', 'correct', 4.695278586376302, 2.1593151530642367),\n",
              " ('correct', 'correct', 4.257677597920464, 4.432140617165544),\n",
              " ('correct', 'correct', 3.8198974656828857, 3.829252059673656),\n",
              " ('correct', 'correct', 4.141047444817186, 1.0079963208992093),\n",
              " ('correct', 'incorrect', 5.195539941141423, 2.8590631792988206),\n",
              " ('correct', 'incorrect', 4.93284635843331, 2.4676400982919677),\n",
              " ('correct', 'incorrect', 5.0075593810105765, 3.0664120947323834),\n",
              " ('incorrect', 'incorrect', 5.444122175499405, 2.7402570220706943),\n",
              " ('correct', 'incorrect', 4.88202232197607, 2.6847823125681978),\n",
              " ('correct', 'incorrect', 3.0885215151723444, 2.841359077234503),\n",
              " ('correct', 'correct', 5.702748843011379, 3.1217204290776026),\n",
              " ('incorrect', 'incorrect', 5.001105839879484, 2.5073156459890082),\n",
              " ('correct', 'incorrect', 4.857711687921453, 3.3461202763163183),\n",
              " ('correct', 'incorrect', 1.0040086818923175, 2.5179053570083774),\n",
              " ('correct', 'incorrect', 5.002892258371349, 2.20659279688273),\n",
              " ('incorrect', 'incorrect', 5.741372244257838, 2.2169315071914655),\n",
              " ('correct', 'incorrect', 5.113239918714487, 1.9010774260077914),\n",
              " ('correct', 'incorrect', 1.4461399055472257, 2.975071597855955),\n",
              " ('correct', 'incorrect', 5.806935549085571, 3.277108376260094),\n",
              " ('incorrect', 'incorrect', 2.3606347215545993, 3.1303973530833966),\n",
              " ('incorrect', 'incorrect', 1.542722098442921, 3.257030190073343),\n",
              " ('correct', 'incorrect', 1.3916338183018797, 3.4399027618907816),\n",
              " ('correct', 'correct', 5.572747863614139, 4.5313044781276055),\n",
              " ('incorrect', 'correct', 3.8635979402479492, 2.5742479993986853),\n",
              " ('incorrect', 'incorrect', 5.446638082381838, 2.0466644737987365),\n",
              " ('correct', 'incorrect', 2.2245415874179564, 2.6770451350158875),\n",
              " ('correct', 'correct', 4.171470494855992, 4.574152840350629),\n",
              " ('correct', 'correct', 4.516707023562578, 1.3872303838653253),\n",
              " ('correct', 'correct', 4.259161239923934, 3.6367954914815863),\n",
              " ('correct', 'correct', 4.537908608390835, 1.1469964002223043),\n",
              " ('correct', 'incorrect', 4.948872223980759, 2.4656125335865093),\n",
              " ('correct', 'incorrect', 5.339482143564393, 2.540294186680475),\n",
              " ('correct', 'incorrect', 1.5081401786874389, 2.9248679551235535),\n",
              " ('incorrect', 'incorrect', 1.2547991792255067, 2.491093436688738),\n",
              " ('incorrect', 'incorrect', 3.3382388789202446, 3.9777846167392212),\n",
              " ('correct', 'incorrect', 1.52366598751215, 0.9200074934879946)]"
            ]
          },
          "metadata": {
            "tags": []
          },
          "execution_count": 21
        }
      ]
    },
    {
      "cell_type": "markdown",
      "metadata": {
        "id": "a5I8fs5EnutF",
        "colab_type": "text"
      },
      "source": [
        "To simulate new repsonses, run this code\n",
        "\n",
        "\n",
        "```\n",
        "congruent_responses = tuple(np.random.choice([\"incorrect\", \"correct\"], size=(50,), p=[1./4, 3./4]))\n",
        "incongruent_responses = tuple(np.random.choice([\"incorrect\", \"correct\"], size=(50,), p=[3./4, 1./4]))\n",
        "```\n",
        "\n",
        "\n",
        "\n",
        "\n",
        "To simulate new reaction time data, run this code:\n",
        "\n",
        "`reaction_time_congruent, reaction_time_incongruent = simulate_reaction_time()`\n",
        "\n"
      ]
    },
    {
      "cell_type": "markdown",
      "metadata": {
        "id": "GfX2-Z11k3TP",
        "colab_type": "text"
      },
      "source": [
        "Now we have a cohesive set of data for our first participant. Go ahead and simulate data for the rest of the participants.\n",
        "\n",
        "Make sure you identify the ID numbers in the varable names so you can identify them later"
      ]
    },
    {
      "cell_type": "code",
      "metadata": {
        "id": "9-rYRCGwlg5R",
        "colab_type": "code",
        "colab": {}
      },
      "source": [
        "# YOUR CODE HERE\n"
      ],
      "execution_count": 0,
      "outputs": []
    },
    {
      "cell_type": "markdown",
      "metadata": {
        "id": "P4HbSc9_jelt",
        "colab_type": "text"
      },
      "source": [
        "Put those simulated data tuples into the dictionary for participant `3301`.  Make sure you label the data `Congruent Response`, `Incongruent Response`, `RT Incongruent`, and `RT Congruent`"
      ]
    },
    {
      "cell_type": "code",
      "metadata": {
        "id": "CoVD6IBKjU4L",
        "colab_type": "code",
        "colab": {}
      },
      "source": [
        "# YOUR CODE HERE\n"
      ],
      "execution_count": 0,
      "outputs": []
    },
    {
      "cell_type": "markdown",
      "metadata": {
        "id": "sIw7uZtFjtFg",
        "colab_type": "text"
      },
      "source": [
        "Now again for participant 3302"
      ]
    },
    {
      "cell_type": "code",
      "metadata": {
        "id": "xfjSO6Rnjwio",
        "colab_type": "code",
        "colab": {}
      },
      "source": [
        "# YOUR CODE HERE\n"
      ],
      "execution_count": 0,
      "outputs": []
    },
    {
      "cell_type": "markdown",
      "metadata": {
        "id": "q6P4yevQjyyy",
        "colab_type": "text"
      },
      "source": [
        "And once more for 3303"
      ]
    },
    {
      "cell_type": "code",
      "metadata": {
        "id": "zILknvirj0vE",
        "colab_type": "code",
        "colab": {}
      },
      "source": [
        "# YOUR CODE HERE\n"
      ],
      "execution_count": 0,
      "outputs": []
    },
    {
      "cell_type": "markdown",
      "metadata": {
        "id": "VN1DRmWNmOBe",
        "colab_type": "text"
      },
      "source": [
        "For participant 3302, what were the 23rd incongruent responses and ingruent reaction times?"
      ]
    },
    {
      "cell_type": "code",
      "metadata": {
        "id": "bQ1SpXaOm3Et",
        "colab_type": "code",
        "colab": {}
      },
      "source": [
        "# YOUR CODE HERE\n"
      ],
      "execution_count": 0,
      "outputs": []
    },
    {
      "cell_type": "markdown",
      "metadata": {
        "id": "tPADyjX-m6_R",
        "colab_type": "text"
      },
      "source": [
        "For participant 3301 what were the 3rd-20th (inclusive) congruent responses?"
      ]
    },
    {
      "cell_type": "code",
      "metadata": {
        "id": "_fptZHFxnD48",
        "colab_type": "code",
        "colab": {}
      },
      "source": [
        "# YOUR CODE HERE\n"
      ],
      "execution_count": 0,
      "outputs": []
    }
  ]
}